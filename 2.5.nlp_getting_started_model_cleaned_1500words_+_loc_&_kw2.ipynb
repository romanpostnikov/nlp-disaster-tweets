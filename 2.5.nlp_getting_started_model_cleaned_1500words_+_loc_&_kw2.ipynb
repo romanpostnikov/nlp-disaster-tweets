{
  "nbformat": 4,
  "nbformat_minor": 0,
  "metadata": {
    "accelerator": "GPU",
    "colab": {
      "name": "nlp-getting-started-model-cleaned-1500words + loc & kw2.ipynb",
      "provenance": [],
      "collapsed_sections": [],
      "toc_visible": true
    },
    "kernelspec": {
      "display_name": "Python 3",
      "name": "python3"
    }
  },
  "cells": [
    {
      "cell_type": "code",
      "metadata": {
        "id": "G4fFTVC66aNF"
      },
      "source": [
        "import pandas as pd\n",
        "import numpy as np\n",
        "import matplotlib.pyplot as plt"
      ],
      "execution_count": null,
      "outputs": []
    },
    {
      "cell_type": "code",
      "metadata": {
        "id": "v03n674yMIpE",
        "colab": {
          "base_uri": "https://localhost:8080/",
          "height": 204
        },
        "outputId": "1c5c320a-8cd3-4d70-f5c2-41bd4744e963"
      },
      "source": [
        "dataset = pd.read_csv(\"train.csv\")\n",
        "dataset.head()"
      ],
      "execution_count": null,
      "outputs": [
        {
          "output_type": "execute_result",
          "data": {
            "text/html": [
              "<div>\n",
              "<style scoped>\n",
              "    .dataframe tbody tr th:only-of-type {\n",
              "        vertical-align: middle;\n",
              "    }\n",
              "\n",
              "    .dataframe tbody tr th {\n",
              "        vertical-align: top;\n",
              "    }\n",
              "\n",
              "    .dataframe thead th {\n",
              "        text-align: right;\n",
              "    }\n",
              "</style>\n",
              "<table border=\"1\" class=\"dataframe\">\n",
              "  <thead>\n",
              "    <tr style=\"text-align: right;\">\n",
              "      <th></th>\n",
              "      <th>id</th>\n",
              "      <th>keyword</th>\n",
              "      <th>location</th>\n",
              "      <th>text</th>\n",
              "      <th>target</th>\n",
              "    </tr>\n",
              "  </thead>\n",
              "  <tbody>\n",
              "    <tr>\n",
              "      <th>0</th>\n",
              "      <td>1</td>\n",
              "      <td>NaN</td>\n",
              "      <td>NaN</td>\n",
              "      <td>Our Deeds are the Reason of this #earthquake M...</td>\n",
              "      <td>1</td>\n",
              "    </tr>\n",
              "    <tr>\n",
              "      <th>1</th>\n",
              "      <td>4</td>\n",
              "      <td>NaN</td>\n",
              "      <td>NaN</td>\n",
              "      <td>Forest fire near La Ronge Sask. Canada</td>\n",
              "      <td>1</td>\n",
              "    </tr>\n",
              "    <tr>\n",
              "      <th>2</th>\n",
              "      <td>5</td>\n",
              "      <td>NaN</td>\n",
              "      <td>NaN</td>\n",
              "      <td>All residents asked to 'shelter in place' are ...</td>\n",
              "      <td>1</td>\n",
              "    </tr>\n",
              "    <tr>\n",
              "      <th>3</th>\n",
              "      <td>6</td>\n",
              "      <td>NaN</td>\n",
              "      <td>NaN</td>\n",
              "      <td>13,000 people receive #wildfires evacuation or...</td>\n",
              "      <td>1</td>\n",
              "    </tr>\n",
              "    <tr>\n",
              "      <th>4</th>\n",
              "      <td>7</td>\n",
              "      <td>NaN</td>\n",
              "      <td>NaN</td>\n",
              "      <td>Just got sent this photo from Ruby #Alaska as ...</td>\n",
              "      <td>1</td>\n",
              "    </tr>\n",
              "  </tbody>\n",
              "</table>\n",
              "</div>"
            ],
            "text/plain": [
              "   id keyword  ...                                               text target\n",
              "0   1     NaN  ...  Our Deeds are the Reason of this #earthquake M...      1\n",
              "1   4     NaN  ...             Forest fire near La Ronge Sask. Canada      1\n",
              "2   5     NaN  ...  All residents asked to 'shelter in place' are ...      1\n",
              "3   6     NaN  ...  13,000 people receive #wildfires evacuation or...      1\n",
              "4   7     NaN  ...  Just got sent this photo from Ruby #Alaska as ...      1\n",
              "\n",
              "[5 rows x 5 columns]"
            ]
          },
          "metadata": {
            "tags": []
          },
          "execution_count": 2
        }
      ]
    },
    {
      "cell_type": "markdown",
      "metadata": {
        "id": "HNpdxMxsMlFu"
      },
      "source": [
        "So I will try to compose a few combinations of data & models to find the best one and use it as a final one. Those combinations are:\n",
        "* Data with no changes (only tweet text used);\n",
        "  * Use this data to build mostly used sklearn ML models and one DL model:\n",
        "    * Logistic Regression;\n",
        "    * K-neighbors;\n",
        "    * SVC;\n",
        "    * Decision Tree;\n",
        "    * Ensemble;\n",
        "    * Naive Bayes;\n",
        "    * Transformer;\n",
        "* Data with cleaned up text in tweets (removed symbols, stop-words and stemmed text);\n",
        "  * Use this data to build mostly used sklearn ML models and one DL model (same models as in previous chapter);\n",
        "* Data with cleaned up text in tweets and properly formatted \"location\" and \"keyword\" columns;\n",
        "  * Use this data to build mostly used sklearn ML models and one DL model (same models as in previous chapter);"
      ]
    },
    {
      "cell_type": "code",
      "metadata": {
        "id": "HnYf34ioB7ah",
        "colab": {
          "base_uri": "https://localhost:8080/",
          "height": 221
        },
        "outputId": "b1789887-f89a-4867-e8eb-30bd723101a3"
      },
      "source": [
        "dataset.location.value_counts()"
      ],
      "execution_count": null,
      "outputs": [
        {
          "output_type": "execute_result",
          "data": {
            "text/plain": [
              "USA               104\n",
              "New York           71\n",
              "United States      50\n",
              "London             45\n",
              "Canada             29\n",
              "                 ... \n",
              "Tampa, Fl           1\n",
              "GOT7SupportPH       1\n",
              "Asgard              1\n",
              "Miami via Lima      1\n",
              "France              1\n",
              "Name: location, Length: 3341, dtype: int64"
            ]
          },
          "metadata": {
            "tags": []
          },
          "execution_count": 3
        }
      ]
    },
    {
      "cell_type": "code",
      "metadata": {
        "id": "enB9eP0HPj11",
        "colab": {
          "base_uri": "https://localhost:8080/",
          "height": 119
        },
        "outputId": "538a9cea-ee96-4500-be85-0f920e3904e0"
      },
      "source": [
        "dataset.dtypes"
      ],
      "execution_count": null,
      "outputs": [
        {
          "output_type": "execute_result",
          "data": {
            "text/plain": [
              "id           int64\n",
              "keyword     object\n",
              "location    object\n",
              "text        object\n",
              "target       int64\n",
              "dtype: object"
            ]
          },
          "metadata": {
            "tags": []
          },
          "execution_count": 4
        }
      ]
    },
    {
      "cell_type": "code",
      "metadata": {
        "id": "0tgOACXsbBTE",
        "colab": {
          "base_uri": "https://localhost:8080/",
          "height": 51
        },
        "outputId": "5f32ce35-d727-4358-d45e-15b46e3c2d95"
      },
      "source": [
        "import re\n",
        "import nltk\n",
        "nltk.download(\"stopwords\") # downloads stopwords\n",
        "from nltk.corpus import stopwords # imports them afterwards\n",
        "from nltk.stem.porter import PorterStemmer # applies stemming, takes only roots of the words\n",
        "corpus = [] # it will contain all our different tweets, but all clean\n",
        "ps = PorterStemmer()\n",
        "all_stopwords = stopwords.words('english')[:143]\n",
        "all_stopwords.remove('not')\n",
        "all_stopwords.remove(\"don\")\n",
        "all_stopwords.remove(\"don't\")\n",
        "for i in range(0, len(dataset)):\n",
        "  tweet = re.sub('[^a-zA-Z]', ' ', dataset['text'][i])\n",
        "  tweet = tweet.lower()\n",
        "  tweet = tweet.split()\n",
        "  tweet = [ps.stem(word) for word in tweet if not word in set(all_stopwords)]\n",
        "  tweet = ' '.join(tweet)\n",
        "  corpus.append(tweet)"
      ],
      "execution_count": null,
      "outputs": [
        {
          "output_type": "stream",
          "text": [
            "[nltk_data] Downloading package stopwords to /root/nltk_data...\n",
            "[nltk_data]   Package stopwords is already up-to-date!\n"
          ],
          "name": "stdout"
        }
      ]
    },
    {
      "cell_type": "code",
      "metadata": {
        "id": "2vK02okJP4js"
      },
      "source": [
        "locations = [] # it will contain all our different tweets, but all clean\n",
        "\n",
        "for i in range(0, len(dataset)):\n",
        "  location = re.sub('[^a-zA-Z]', ' ', str(dataset['location'][i]))\n",
        "  location = location.lower()\n",
        "  location = location.split()\n",
        "  location = ' '.join(location)\n",
        "  locations.append(location)"
      ],
      "execution_count": null,
      "outputs": []
    },
    {
      "cell_type": "code",
      "metadata": {
        "id": "A9XB-0caVuhV"
      },
      "source": [
        "keywords = [] # it will contain all our different tweets, but all clean\n",
        "\n",
        "for i in range(0, len(dataset)):\n",
        "  keyword = re.sub('[^a-zA-Z]', ' ', str(dataset['keyword'][i]))\n",
        "  keyword = keyword.lower()\n",
        "  keyword = keyword.split()\n",
        "  keyword = ' '.join(keyword)\n",
        "  keywords.append(keyword)"
      ],
      "execution_count": null,
      "outputs": []
    },
    {
      "cell_type": "code",
      "metadata": {
        "id": "IM08cGunZP8G"
      },
      "source": [
        "from sklearn.feature_extraction.text import CountVectorizer\n",
        "cv = CountVectorizer(max_features=1500)\n",
        "\n",
        "X = cv.fit_transform(corpus).toarray()\n",
        "y = dataset[\"target\"].values"
      ],
      "execution_count": null,
      "outputs": []
    },
    {
      "cell_type": "code",
      "metadata": {
        "id": "qJNyIxRUXO1h"
      },
      "source": [
        "cv3 = CountVectorizer()\n",
        "\n",
        "X2 = cv.transform(keywords).toarray()\n",
        "X3 = cv3.fit_transform(locations).toarray()"
      ],
      "execution_count": null,
      "outputs": []
    },
    {
      "cell_type": "code",
      "metadata": {
        "id": "GllUY5IIY6yK",
        "colab": {
          "base_uri": "https://localhost:8080/",
          "height": 34
        },
        "outputId": "63600331-01ad-4e80-f056-23b681971ef6"
      },
      "source": [
        "len(X3[0])"
      ],
      "execution_count": null,
      "outputs": [
        {
          "output_type": "execute_result",
          "data": {
            "text/plain": [
              "2892"
            ]
          },
          "metadata": {
            "tags": []
          },
          "execution_count": 10
        }
      ]
    },
    {
      "cell_type": "code",
      "metadata": {
        "id": "j6xgThxkZtFP"
      },
      "source": [
        "X = np.concatenate((X, X2, X3), axis=1)"
      ],
      "execution_count": null,
      "outputs": []
    },
    {
      "cell_type": "code",
      "metadata": {
        "id": "89uxyYHxb0_8",
        "colab": {
          "base_uri": "https://localhost:8080/",
          "height": 136
        },
        "outputId": "8cb0a594-2e44-49b9-91be-86244dca0f34"
      },
      "source": [
        "X[:20]"
      ],
      "execution_count": null,
      "outputs": [
        {
          "output_type": "execute_result",
          "data": {
            "text/plain": [
              "array([[0, 0, 0, ..., 0, 0, 0],\n",
              "       [0, 0, 0, ..., 0, 0, 0],\n",
              "       [0, 0, 0, ..., 0, 0, 0],\n",
              "       ...,\n",
              "       [0, 0, 0, ..., 0, 0, 0],\n",
              "       [0, 0, 0, ..., 0, 0, 0],\n",
              "       [0, 0, 0, ..., 0, 0, 0]])"
            ]
          },
          "metadata": {
            "tags": []
          },
          "execution_count": 12
        }
      ]
    },
    {
      "cell_type": "code",
      "metadata": {
        "id": "CmSWByvzZuiz"
      },
      "source": [
        "from sklearn.model_selection import train_test_split\n",
        "\n",
        "X_train, X_test, y_train, y_test = train_test_split(X, y, test_size=0.2, random_state=42)"
      ],
      "execution_count": null,
      "outputs": []
    },
    {
      "cell_type": "code",
      "metadata": {
        "id": "P9uN7C9H8qcl"
      },
      "source": [
        "f1_scores = {}"
      ],
      "execution_count": null,
      "outputs": []
    },
    {
      "cell_type": "markdown",
      "metadata": {
        "id": "Wg7UGfmmnF0B"
      },
      "source": [
        "# Logistic Regression"
      ]
    },
    {
      "cell_type": "code",
      "metadata": {
        "id": "n1d3Kgwgnw-A"
      },
      "source": [
        "# from sklearn.linear_model import LogisticRegression\n",
        "# from sklearn.model_selection import RandomizedSearchCV\n",
        "\n",
        "# lr_grid = {\"C\": np.logspace(-4, 4, 40),\n",
        "#                 \"penalty\": ['l1', 'l2'],\n",
        "#                 \"solver\": [\"liblinear\"]}\n",
        "\n",
        "# lr_search = RandomizedSearchCV(estimator=LogisticRegression(),\n",
        "#                           param_distributions=lr_grid,\n",
        "#                           cv=5,\n",
        "#                           scoring='f1',\n",
        "#                           verbose=True)\n",
        "\n",
        "# lr_search.fit(X_train, y_train)\n",
        "# lr_best_params = lr_search.best_params_"
      ],
      "execution_count": null,
      "outputs": []
    },
    {
      "cell_type": "code",
      "metadata": {
        "id": "JSJ7JkFWg7kn",
        "colab": {
          "base_uri": "https://localhost:8080/",
          "height": 102
        },
        "outputId": "bfabada8-79d6-4545-994d-d2849326b4ac"
      },
      "source": [
        "from sklearn.linear_model import LogisticRegression\n",
        "\n",
        "lr_model = LogisticRegression(penalty = 'l2',solver = 'liblinear', max_iter=1000)\n",
        "lr_model.fit(X_train, y_train)"
      ],
      "execution_count": null,
      "outputs": [
        {
          "output_type": "execute_result",
          "data": {
            "text/plain": [
              "LogisticRegression(C=1.0, class_weight=None, dual=False, fit_intercept=True,\n",
              "                   intercept_scaling=1, l1_ratio=None, max_iter=1000,\n",
              "                   multi_class='auto', n_jobs=None, penalty='l2',\n",
              "                   random_state=None, solver='liblinear', tol=0.0001, verbose=0,\n",
              "                   warm_start=False)"
            ]
          },
          "metadata": {
            "tags": []
          },
          "execution_count": 16
        }
      ]
    },
    {
      "cell_type": "code",
      "metadata": {
        "id": "8nEFSC373ait"
      },
      "source": [
        "y_pred_lr = lr_model.predict(X_test)"
      ],
      "execution_count": null,
      "outputs": []
    },
    {
      "cell_type": "code",
      "metadata": {
        "id": "EXEMHWiZmn6n",
        "colab": {
          "base_uri": "https://localhost:8080/",
          "height": 34
        },
        "outputId": "63e9da1b-0143-493d-ba31-1daf9615519e"
      },
      "source": [
        "from sklearn.metrics import f1_score\n",
        "\n",
        "f1_score_lr = f1_score(y_test, y_pred_lr)\n",
        "print(f1_score_lr)"
      ],
      "execution_count": null,
      "outputs": [
        {
          "output_type": "stream",
          "text": [
            "0.7481898632341111\n"
          ],
          "name": "stdout"
        }
      ]
    },
    {
      "cell_type": "code",
      "metadata": {
        "id": "lawCsl228d5s"
      },
      "source": [
        "f1_scores[\"LogisticRegression\"] = f1_score_lr"
      ],
      "execution_count": null,
      "outputs": []
    },
    {
      "cell_type": "markdown",
      "metadata": {
        "id": "X-OELfRKnMNs"
      },
      "source": [
        "# K-neighbors"
      ]
    },
    {
      "cell_type": "code",
      "metadata": {
        "id": "k1axJQ3UpsLG"
      },
      "source": [
        "# from sklearn.neighbors import KNeighborsClassifier\n",
        "\n",
        "# knc_grid = {\"leaf_size\": list(range(1, 5)),\n",
        "#             \"n_neighbors\": list(range(1, 5)),\n",
        "#             \"p\": [2]}\n",
        "\n",
        "# knc_search = RandomizedSearchCV(estimator=KNeighborsClassifier(),\n",
        "#                           param_distributions=knc_grid,\n",
        "#                           cv=5,\n",
        "#                           scoring='f1',\n",
        "#                           verbose=True)\n",
        "\n",
        "# knc_search.fit(X_train, y_train)\n",
        "# knc_best_params = knc_search.best_params_"
      ],
      "execution_count": null,
      "outputs": []
    },
    {
      "cell_type": "code",
      "metadata": {
        "id": "oNbvDiqxn8MA",
        "colab": {
          "base_uri": "https://localhost:8080/",
          "height": 68
        },
        "outputId": "c7f501ef-d39f-4c52-a171-622792c01188"
      },
      "source": [
        "from sklearn.neighbors import KNeighborsClassifier\n",
        "\n",
        "knc_model = KNeighborsClassifier()\n",
        "knc_model.fit(X_train, y_train)"
      ],
      "execution_count": null,
      "outputs": [
        {
          "output_type": "execute_result",
          "data": {
            "text/plain": [
              "KNeighborsClassifier(algorithm='auto', leaf_size=30, metric='minkowski',\n",
              "                     metric_params=None, n_jobs=None, n_neighbors=5, p=2,\n",
              "                     weights='uniform')"
            ]
          },
          "metadata": {
            "tags": []
          },
          "execution_count": 21
        }
      ]
    },
    {
      "cell_type": "code",
      "metadata": {
        "id": "ELuH9582oKT2"
      },
      "source": [
        "y_pred_knc = knc_model.predict(X_test)"
      ],
      "execution_count": null,
      "outputs": []
    },
    {
      "cell_type": "code",
      "metadata": {
        "id": "BmEYW7XqoVxX",
        "colab": {
          "base_uri": "https://localhost:8080/",
          "height": 34
        },
        "outputId": "ee0941fb-c2b9-4434-d3c3-e02e06071938"
      },
      "source": [
        "f1_score_knc = f1_score(y_test, y_pred_knc)\n",
        "print(f1_score_knc)"
      ],
      "execution_count": null,
      "outputs": [
        {
          "output_type": "stream",
          "text": [
            "0.6070038910505837\n"
          ],
          "name": "stdout"
        }
      ]
    },
    {
      "cell_type": "code",
      "metadata": {
        "id": "_iW0hVgN8hoy"
      },
      "source": [
        "f1_scores[\"KNeighborsClassifier\"] = f1_score_knc"
      ],
      "execution_count": null,
      "outputs": []
    },
    {
      "cell_type": "markdown",
      "metadata": {
        "id": "c5o3XGLoojqo"
      },
      "source": [
        "# SVC"
      ]
    },
    {
      "cell_type": "code",
      "metadata": {
        "id": "JzpmHb9Z4p95"
      },
      "source": [
        "# from sklearn.svm import SVC\n",
        "\n",
        "# svc_grid = {'C': [0.1,1, 10, 100], \n",
        "#             'gamma': [1,0.1,0.01,0.001],\n",
        "#             'kernel': ['rbf', 'poly', 'sigmoid']}\n",
        "\n",
        "# svc_search = RandomizedSearchCV(estimator=SVC(),\n",
        "#                           param_distributions=svc_grid,\n",
        "#                           cv=5,\n",
        "#                           scoring='f1',\n",
        "#                           verbose=True)\n",
        "\n",
        "# svc_search.fit(X_train, y_train)\n",
        "# svc_best_params = svc_search.best_params_"
      ],
      "execution_count": null,
      "outputs": []
    },
    {
      "cell_type": "code",
      "metadata": {
        "id": "cmBg5rq6pg6r",
        "colab": {
          "base_uri": "https://localhost:8080/",
          "height": 85
        },
        "outputId": "a9103fc1-0ed9-41b2-af5d-bae4d4c2056f"
      },
      "source": [
        "from sklearn.svm import SVC\n",
        "\n",
        "svc_model = SVC()\n",
        "svc_model.fit(X_train, y_train)"
      ],
      "execution_count": null,
      "outputs": [
        {
          "output_type": "execute_result",
          "data": {
            "text/plain": [
              "SVC(C=1.0, break_ties=False, cache_size=200, class_weight=None, coef0=0.0,\n",
              "    decision_function_shape='ovr', degree=3, gamma='scale', kernel='rbf',\n",
              "    max_iter=-1, probability=False, random_state=None, shrinking=True,\n",
              "    tol=0.001, verbose=False)"
            ]
          },
          "metadata": {
            "tags": []
          },
          "execution_count": 26
        }
      ]
    },
    {
      "cell_type": "code",
      "metadata": {
        "id": "3iF5Aj_aqCzP"
      },
      "source": [
        "y_pred_svc = svc_model.predict(X_test)"
      ],
      "execution_count": null,
      "outputs": []
    },
    {
      "cell_type": "code",
      "metadata": {
        "id": "dcte1lW8qp7q",
        "colab": {
          "base_uri": "https://localhost:8080/",
          "height": 34
        },
        "outputId": "a581bf92-b293-4a64-e361-b065fe967fa2"
      },
      "source": [
        "f1_score_svc = f1_score(y_test, y_pred_svc)\n",
        "print(f1_score_svc)"
      ],
      "execution_count": null,
      "outputs": [
        {
          "output_type": "stream",
          "text": [
            "0.7599999999999999\n"
          ],
          "name": "stdout"
        }
      ]
    },
    {
      "cell_type": "code",
      "metadata": {
        "id": "MhTwxZsR8kT8"
      },
      "source": [
        "f1_scores[\"SVC\"] = f1_score_svc"
      ],
      "execution_count": null,
      "outputs": []
    },
    {
      "cell_type": "markdown",
      "metadata": {
        "id": "mF37NNkhq0Nf"
      },
      "source": [
        "# Decision Tree"
      ]
    },
    {
      "cell_type": "code",
      "metadata": {
        "id": "vor3nQKw6eEB"
      },
      "source": [
        "# from sklearn.tree import DecisionTreeClassifier\n",
        "\n",
        "# dtc_grid = {\"max_depth\": [3, None],\n",
        "#               \"max_features\": randint(1, 9),\n",
        "#               \"min_samples_leaf\": randint(1, 9),\n",
        "#               \"criterion\": [\"gini\", \"entropy\"]}\n",
        "\n",
        "# dtc_search = RandomizedSearchCV(estimator=DecisionTreeClassifier(),\n",
        "#                           param_distributions=dtc_grid,\n",
        "#                           cv=5,\n",
        "#                           scoring='f1',\n",
        "#                           verbose=True)\n",
        "\n",
        "# dtc_search.fit(X_train, y_train)\n",
        "# dtc_best_params = dtc_search.best_params_"
      ],
      "execution_count": null,
      "outputs": []
    },
    {
      "cell_type": "code",
      "metadata": {
        "id": "H8vPoUu5rMd3",
        "colab": {
          "base_uri": "https://localhost:8080/",
          "height": 119
        },
        "outputId": "d032e400-7763-4ca2-b221-2ed44f81c5b0"
      },
      "source": [
        "from sklearn.tree import DecisionTreeClassifier\n",
        "\n",
        "dtc_model = DecisionTreeClassifier()\n",
        "dtc_model.fit(X_train, y_train)"
      ],
      "execution_count": null,
      "outputs": [
        {
          "output_type": "execute_result",
          "data": {
            "text/plain": [
              "DecisionTreeClassifier(ccp_alpha=0.0, class_weight=None, criterion='gini',\n",
              "                       max_depth=None, max_features=None, max_leaf_nodes=None,\n",
              "                       min_impurity_decrease=0.0, min_impurity_split=None,\n",
              "                       min_samples_leaf=1, min_samples_split=2,\n",
              "                       min_weight_fraction_leaf=0.0, presort='deprecated',\n",
              "                       random_state=None, splitter='best')"
            ]
          },
          "metadata": {
            "tags": []
          },
          "execution_count": 31
        }
      ]
    },
    {
      "cell_type": "code",
      "metadata": {
        "id": "j8CVG3_YrMlB"
      },
      "source": [
        "y_pred_dtc = dtc_model.predict(X_test)"
      ],
      "execution_count": null,
      "outputs": []
    },
    {
      "cell_type": "code",
      "metadata": {
        "id": "cX301R9erMn7",
        "colab": {
          "base_uri": "https://localhost:8080/",
          "height": 34
        },
        "outputId": "1c8580e0-3f50-4585-8f3d-79063aec2a17"
      },
      "source": [
        "f1_score_dtc = f1_score(y_test, y_pred_dtc)\n",
        "print(f1_score_dtc)"
      ],
      "execution_count": null,
      "outputs": [
        {
          "output_type": "stream",
          "text": [
            "0.686289697908598\n"
          ],
          "name": "stdout"
        }
      ]
    },
    {
      "cell_type": "code",
      "metadata": {
        "id": "s0wkve5Z8sMo"
      },
      "source": [
        "f1_scores[\"DecisionTreeClassifier\"] = f1_score_dtc"
      ],
      "execution_count": null,
      "outputs": []
    },
    {
      "cell_type": "markdown",
      "metadata": {
        "id": "8F7pouujq7gC"
      },
      "source": [
        "# Ensemble"
      ]
    },
    {
      "cell_type": "code",
      "metadata": {
        "id": "9uHeDWwX6990"
      },
      "source": [
        "# from sklearn.ensemble import RandomForestClassifier\n",
        "\n",
        "# rfc_grid = {\"n_estimators\": [10, 100, 200, 500, 1000, 1200],\n",
        "#             \"max_depth\": [5, 8, 15, 25, 30],\n",
        "#             \"max_features\": [\"auto\", \"sqrt\"],\n",
        "#             \"min_samples_split\": [2, 5, 10, 15, 100],\n",
        "#             \"min_samples_leaf\": [1, 2, 5, 10]}\n",
        "\n",
        "# rfc_search = RandomizedSearchCV(estimator=RandomForestClassifier(),\n",
        "#                           param_distributions=rfc_grid,\n",
        "#                           cv=5,\n",
        "#                           scoring='f1',\n",
        "#                           verbose=True)\n",
        "\n",
        "# rfc_search.fit(X_train, y_train)\n",
        "# rfc_best_params = rfc_search.best_params_"
      ],
      "execution_count": null,
      "outputs": []
    },
    {
      "cell_type": "code",
      "metadata": {
        "id": "Sp185W-trTkJ",
        "colab": {
          "base_uri": "https://localhost:8080/",
          "height": 153
        },
        "outputId": "d7c2a713-4e74-4790-bb9d-b78d8ebe9d09"
      },
      "source": [
        "from sklearn.ensemble import RandomForestClassifier\n",
        "\n",
        "rfc_model = RandomForestClassifier()\n",
        "rfc_model.fit(X_train, y_train)"
      ],
      "execution_count": null,
      "outputs": [
        {
          "output_type": "execute_result",
          "data": {
            "text/plain": [
              "RandomForestClassifier(bootstrap=True, ccp_alpha=0.0, class_weight=None,\n",
              "                       criterion='gini', max_depth=None, max_features='auto',\n",
              "                       max_leaf_nodes=None, max_samples=None,\n",
              "                       min_impurity_decrease=0.0, min_impurity_split=None,\n",
              "                       min_samples_leaf=1, min_samples_split=2,\n",
              "                       min_weight_fraction_leaf=0.0, n_estimators=100,\n",
              "                       n_jobs=None, oob_score=False, random_state=None,\n",
              "                       verbose=0, warm_start=False)"
            ]
          },
          "metadata": {
            "tags": []
          },
          "execution_count": 36
        }
      ]
    },
    {
      "cell_type": "code",
      "metadata": {
        "id": "d968BMf9rTzu"
      },
      "source": [
        "y_pred_rfc = rfc_model.predict(X_test)"
      ],
      "execution_count": null,
      "outputs": []
    },
    {
      "cell_type": "code",
      "metadata": {
        "id": "sDuvKEBPrT2V",
        "colab": {
          "base_uri": "https://localhost:8080/",
          "height": 34
        },
        "outputId": "3f9d8a45-1de7-45ae-bf12-bdd0ff2e402a"
      },
      "source": [
        "f1_score_rfc = f1_score(y_test, y_pred_rfc)\n",
        "print(f1_score_rfc)"
      ],
      "execution_count": null,
      "outputs": [
        {
          "output_type": "stream",
          "text": [
            "0.7355371900826446\n"
          ],
          "name": "stdout"
        }
      ]
    },
    {
      "cell_type": "code",
      "metadata": {
        "id": "T_ToRsIt8xhH"
      },
      "source": [
        "f1_scores[\"RandomForestClassifier\"] = f1_score_rfc"
      ],
      "execution_count": null,
      "outputs": []
    },
    {
      "cell_type": "markdown",
      "metadata": {
        "id": "8J0QQ10Qq9LI"
      },
      "source": [
        "# Naive Bayes"
      ]
    },
    {
      "cell_type": "code",
      "metadata": {
        "id": "8I-NpW1JrUsH",
        "colab": {
          "base_uri": "https://localhost:8080/",
          "height": 34
        },
        "outputId": "ec66dbc0-0bce-4116-f594-e96a9b501327"
      },
      "source": [
        "from sklearn.naive_bayes import GaussianNB\n",
        "\n",
        "gnb_model = GaussianNB()\n",
        "gnb_model.fit(X_train, y_train)"
      ],
      "execution_count": null,
      "outputs": [
        {
          "output_type": "execute_result",
          "data": {
            "text/plain": [
              "GaussianNB(priors=None, var_smoothing=1e-09)"
            ]
          },
          "metadata": {
            "tags": []
          },
          "execution_count": 40
        }
      ]
    },
    {
      "cell_type": "code",
      "metadata": {
        "id": "t9psy2hbrUzN"
      },
      "source": [
        "y_pred_gnb = gnb_model.predict(X_test)"
      ],
      "execution_count": null,
      "outputs": []
    },
    {
      "cell_type": "code",
      "metadata": {
        "id": "iQfsupJGrUxK",
        "colab": {
          "base_uri": "https://localhost:8080/",
          "height": 34
        },
        "outputId": "ea62e631-194d-4c74-cb86-bca66bcd14a2"
      },
      "source": [
        "f1_score_gnb = f1_score(y_test, y_pred_gnb)\n",
        "print(f1_score_gnb)"
      ],
      "execution_count": null,
      "outputs": [
        {
          "output_type": "stream",
          "text": [
            "0.6153039832285115\n"
          ],
          "name": "stdout"
        }
      ]
    },
    {
      "cell_type": "code",
      "metadata": {
        "id": "TO-RysII8yXu"
      },
      "source": [
        "f1_scores[\"GaussianNB\"] = f1_score_gnb"
      ],
      "execution_count": null,
      "outputs": []
    },
    {
      "cell_type": "code",
      "metadata": {
        "id": "RFvnCh-R81D4",
        "colab": {
          "base_uri": "https://localhost:8080/",
          "height": 54
        },
        "outputId": "1d20348b-7d1a-4a0d-c8a2-812a2aff84d5"
      },
      "source": [
        "print(f1_scores)"
      ],
      "execution_count": null,
      "outputs": [
        {
          "output_type": "stream",
          "text": [
            "{'LogisticRegression': 0.7481898632341111, 'KNeighborsClassifier': 0.6070038910505837, 'SVC': 0.7599999999999999, 'DecisionTreeClassifier': 0.686289697908598, 'RandomForestClassifier': 0.7355371900826446, 'GaussianNB': 0.6153039832285115}\n"
          ],
          "name": "stdout"
        }
      ]
    },
    {
      "cell_type": "markdown",
      "metadata": {
        "id": "tz4Dttzkq_dy"
      },
      "source": [
        "# Transformer"
      ]
    }
  ]
}