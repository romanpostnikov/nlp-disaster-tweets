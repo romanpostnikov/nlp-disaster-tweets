{
  "nbformat": 4,
  "nbformat_minor": 0,
  "metadata": {
    "colab": {
      "name": "nlp-disaster-tweets.ipynb",
      "provenance": [],
      "collapsed_sections": [],
      "toc_visible": true
    },
    "kernelspec": {
      "display_name": "Python 3",
      "name": "python3"
    }
  },
  "cells": [
    {
      "cell_type": "code",
      "metadata": {
        "id": "fdwVujYZYFHu"
      },
      "source": [
        "import pandas as pd\n",
        "import numpy as np\n",
        "import matplotlib.pyplot as plt"
      ],
      "execution_count": null,
      "outputs": []
    },
    {
      "cell_type": "code",
      "metadata": {
        "id": "RtzOQw4aYS1f",
        "colab": {
          "base_uri": "https://localhost:8080/",
          "height": 195
        },
        "outputId": "009facfd-7d62-4f15-9f59-e5f387534fb6"
      },
      "source": [
        "dataset = pd.read_csv(\"train.csv\")\n",
        "dataset.head()"
      ],
      "execution_count": null,
      "outputs": [
        {
          "output_type": "execute_result",
          "data": {
            "text/html": [
              "<div>\n",
              "<style scoped>\n",
              "    .dataframe tbody tr th:only-of-type {\n",
              "        vertical-align: middle;\n",
              "    }\n",
              "\n",
              "    .dataframe tbody tr th {\n",
              "        vertical-align: top;\n",
              "    }\n",
              "\n",
              "    .dataframe thead th {\n",
              "        text-align: right;\n",
              "    }\n",
              "</style>\n",
              "<table border=\"1\" class=\"dataframe\">\n",
              "  <thead>\n",
              "    <tr style=\"text-align: right;\">\n",
              "      <th></th>\n",
              "      <th>id</th>\n",
              "      <th>keyword</th>\n",
              "      <th>location</th>\n",
              "      <th>text</th>\n",
              "      <th>target</th>\n",
              "    </tr>\n",
              "  </thead>\n",
              "  <tbody>\n",
              "    <tr>\n",
              "      <th>0</th>\n",
              "      <td>1</td>\n",
              "      <td>NaN</td>\n",
              "      <td>NaN</td>\n",
              "      <td>Our Deeds are the Reason of this #earthquake M...</td>\n",
              "      <td>1</td>\n",
              "    </tr>\n",
              "    <tr>\n",
              "      <th>1</th>\n",
              "      <td>4</td>\n",
              "      <td>NaN</td>\n",
              "      <td>NaN</td>\n",
              "      <td>Forest fire near La Ronge Sask. Canada</td>\n",
              "      <td>1</td>\n",
              "    </tr>\n",
              "    <tr>\n",
              "      <th>2</th>\n",
              "      <td>5</td>\n",
              "      <td>NaN</td>\n",
              "      <td>NaN</td>\n",
              "      <td>All residents asked to 'shelter in place' are ...</td>\n",
              "      <td>1</td>\n",
              "    </tr>\n",
              "    <tr>\n",
              "      <th>3</th>\n",
              "      <td>6</td>\n",
              "      <td>NaN</td>\n",
              "      <td>NaN</td>\n",
              "      <td>13,000 people receive #wildfires evacuation or...</td>\n",
              "      <td>1</td>\n",
              "    </tr>\n",
              "    <tr>\n",
              "      <th>4</th>\n",
              "      <td>7</td>\n",
              "      <td>NaN</td>\n",
              "      <td>NaN</td>\n",
              "      <td>Just got sent this photo from Ruby #Alaska as ...</td>\n",
              "      <td>1</td>\n",
              "    </tr>\n",
              "  </tbody>\n",
              "</table>\n",
              "</div>"
            ],
            "text/plain": [
              "   id keyword  ...                                               text target\n",
              "0   1     NaN  ...  Our Deeds are the Reason of this #earthquake M...      1\n",
              "1   4     NaN  ...             Forest fire near La Ronge Sask. Canada      1\n",
              "2   5     NaN  ...  All residents asked to 'shelter in place' are ...      1\n",
              "3   6     NaN  ...  13,000 people receive #wildfires evacuation or...      1\n",
              "4   7     NaN  ...  Just got sent this photo from Ruby #Alaska as ...      1\n",
              "\n",
              "[5 rows x 5 columns]"
            ]
          },
          "metadata": {
            "tags": []
          },
          "execution_count": 2
        }
      ]
    },
    {
      "cell_type": "markdown",
      "metadata": {
        "id": "m7zS-Yi7dY4Q"
      },
      "source": [
        "# Plan"
      ]
    },
    {
      "cell_type": "markdown",
      "metadata": {
        "id": "2J0uraQwYbjc"
      },
      "source": [
        "So I will try to compose a few combinations of data & models to find the best one and use it as a final one. Those combinations are:\n",
        "* Data with no changes (only tweet text used);\n",
        "  * Use this data to build mostly used sklearn ML models and one DL model:\n",
        "    * Logistic Regression;\n",
        "    * K-neighbors;\n",
        "    * Decision Tree;\n",
        "    * Ensemble;\n",
        "    * ANN;\n",
        "* Data with cleaned up text in tweets (removed symbols, stop-words and stemmed text);\n",
        "  * Use this data to build mostly used sklearn ML models and one DL model (same models as in previous chapter);\n"
      ]
    },
    {
      "cell_type": "code",
      "metadata": {
        "id": "lIXeFns1YYZ1",
        "colab": {
          "base_uri": "https://localhost:8080/"
        },
        "outputId": "dbf04f48-5f18-429d-eeff-d93a6f2968c3"
      },
      "source": [
        "import re\n",
        "import nltk\n",
        "nltk.download(\"stopwords\") # downloads stopwords\n",
        "from nltk.corpus import stopwords # imports them afterwards\n",
        "from nltk.stem.porter import PorterStemmer # applies stemming, takes only roots of the words\n",
        "\n",
        "corpus = [] # it will contain all our different tweets, but all clean\n",
        "ps = PorterStemmer()\n",
        "all_stopwords = stopwords.words('english')[:143]\n",
        "all_stopwords.remove('not')\n",
        "all_stopwords.remove(\"don\")\n",
        "all_stopwords.remove(\"don't\")\n",
        "for i in range(0, len(dataset)):\n",
        "  tweet = re.sub('[^a-zA-Z]', ' ', str(dataset['text'][i]))\n",
        "  tweet = tweet.lower()\n",
        "  tweet = tweet.split()\n",
        "  tweet = [ps.stem(word) for word in tweet if not word in set(all_stopwords)]\n",
        "  tweet = ' '.join(tweet)\n",
        "  corpus.append(tweet)"
      ],
      "execution_count": null,
      "outputs": [
        {
          "output_type": "stream",
          "text": [
            "[nltk_data] Downloading package stopwords to /root/nltk_data...\n",
            "[nltk_data]   Package stopwords is already up-to-date!\n"
          ],
          "name": "stdout"
        }
      ]
    },
    {
      "cell_type": "code",
      "metadata": {
        "id": "hS9EksQgan6b"
      },
      "source": [
        "X = corpus\n",
        "y = dataset[\"target\"]"
      ],
      "execution_count": null,
      "outputs": []
    },
    {
      "cell_type": "code",
      "metadata": {
        "id": "w-t8Ib3xZ5y6"
      },
      "source": [
        "from sklearn.model_selection import train_test_split\n",
        "\n",
        "X_train, X_test, y_train, y_test = train_test_split(X, y, test_size=0.2, random_state=1)"
      ],
      "execution_count": null,
      "outputs": []
    },
    {
      "cell_type": "code",
      "metadata": {
        "id": "3hXnPDRKa6lh"
      },
      "source": [
        "from sklearn.feature_extraction.text import CountVectorizer\n",
        "\n",
        "cv = CountVectorizer(max_features=2000)\n",
        "X_train = cv.fit_transform(X_train).toarray()\n",
        "X_test = cv.transform(X_test).toarray()"
      ],
      "execution_count": null,
      "outputs": []
    },
    {
      "cell_type": "code",
      "metadata": {
        "id": "6dDsbMjkbaIH"
      },
      "source": [
        "f1_scores = {}"
      ],
      "execution_count": null,
      "outputs": []
    },
    {
      "cell_type": "markdown",
      "metadata": {
        "id": "E9ysFSHQc7-R"
      },
      "source": [
        "# LogisticRegression"
      ]
    },
    {
      "cell_type": "code",
      "metadata": {
        "id": "RDNd7r_6dDv8",
        "colab": {
          "base_uri": "https://localhost:8080/"
        },
        "outputId": "70edc924-cd14-47c4-8d1a-e2d01cb93968"
      },
      "source": [
        "from sklearn.linear_model import LogisticRegression\n",
        "\n",
        "lr_model = LogisticRegression(penalty = 'l2',solver = 'liblinear', max_iter=1000)\n",
        "lr_model.fit(X_train, y_train)"
      ],
      "execution_count": null,
      "outputs": [
        {
          "output_type": "execute_result",
          "data": {
            "text/plain": [
              "LogisticRegression(C=1.0, class_weight=None, dual=False, fit_intercept=True,\n",
              "                   intercept_scaling=1, l1_ratio=None, max_iter=1000,\n",
              "                   multi_class='auto', n_jobs=None, penalty='l2',\n",
              "                   random_state=None, solver='liblinear', tol=0.0001, verbose=0,\n",
              "                   warm_start=False)"
            ]
          },
          "metadata": {
            "tags": []
          },
          "execution_count": 8
        }
      ]
    },
    {
      "cell_type": "code",
      "metadata": {
        "id": "UBHh36tRdH6j",
        "colab": {
          "base_uri": "https://localhost:8080/"
        },
        "outputId": "a657f3b8-0e37-4831-b257-5890ee4c3945"
      },
      "source": [
        "from sklearn.metrics import f1_score\n",
        "\n",
        "y_pred_lr = lr_model.predict(X_test)\n",
        "\n",
        "f1_score_lr = f1_score(y_test, y_pred_lr)\n",
        "print(f1_score_lr)"
      ],
      "execution_count": null,
      "outputs": [
        {
          "output_type": "stream",
          "text": [
            "0.742857142857143\n"
          ],
          "name": "stdout"
        }
      ]
    },
    {
      "cell_type": "code",
      "metadata": {
        "id": "QM5AtWSFdQYp"
      },
      "source": [
        "f1_scores[\"LogisticRegression\"] = f1_score_lr"
      ],
      "execution_count": null,
      "outputs": []
    },
    {
      "cell_type": "markdown",
      "metadata": {
        "id": "Crw1UkeldUMG"
      },
      "source": [
        "# K-neighbors"
      ]
    },
    {
      "cell_type": "code",
      "metadata": {
        "id": "Rjppqo6NdTDh"
      },
      "source": [
        "# %time\n",
        "# from sklearn.neighbors import KNeighborsClassifier\n",
        "\n",
        "# knc_grid = {\"leaf_size\": list(range(1, 5)),\n",
        "#             \"n_neighbors\": list(range(1, 5)),\n",
        "#             \"p\": [2]}\n",
        "\n",
        "# knc_search = RandomizedSearchCV(estimator=KNeighborsClassifier(),\n",
        "#                           param_distributions=knc_grid,\n",
        "#                           cv=5,\n",
        "#                           scoring='f1',\n",
        "#                           verbose=True)\n",
        "\n",
        "# knc_search.fit(X_train, y_train)\n",
        "# knc_best_params = knc_search.best_params_"
      ],
      "execution_count": null,
      "outputs": []
    },
    {
      "cell_type": "code",
      "metadata": {
        "id": "puTHaqUtjNKA",
        "colab": {
          "base_uri": "https://localhost:8080/"
        },
        "outputId": "ffbb732c-10fa-460c-ecce-35e14beccb3d"
      },
      "source": [
        "from sklearn.neighbors import KNeighborsClassifier\n",
        "\n",
        "knc_model = KNeighborsClassifier()\n",
        "knc_model.fit(X_train, y_train)"
      ],
      "execution_count": null,
      "outputs": [
        {
          "output_type": "execute_result",
          "data": {
            "text/plain": [
              "KNeighborsClassifier(algorithm='auto', leaf_size=30, metric='minkowski',\n",
              "                     metric_params=None, n_jobs=None, n_neighbors=5, p=2,\n",
              "                     weights='uniform')"
            ]
          },
          "metadata": {
            "tags": []
          },
          "execution_count": 12
        }
      ]
    },
    {
      "cell_type": "code",
      "metadata": {
        "id": "hvzrIfCijO4n",
        "colab": {
          "base_uri": "https://localhost:8080/"
        },
        "outputId": "39fe72d1-7bd3-4ce2-bf8b-45ddbbdce69a"
      },
      "source": [
        "y_pred_knc = knc_model.predict(X_test)\n",
        "\n",
        "f1_score_knc = f1_score(y_test, y_pred_knc)\n",
        "print(f1_score_knc)"
      ],
      "execution_count": null,
      "outputs": [
        {
          "output_type": "stream",
          "text": [
            "0.5167037861915368\n"
          ],
          "name": "stdout"
        }
      ]
    },
    {
      "cell_type": "code",
      "metadata": {
        "id": "u509ViEGjUQp"
      },
      "source": [
        "f1_scores[\"KNeighborsClassifier\"] = f1_score_knc"
      ],
      "execution_count": null,
      "outputs": []
    },
    {
      "cell_type": "markdown",
      "metadata": {
        "id": "d7ULlRogjXeZ"
      },
      "source": [
        "# Decision Tree"
      ]
    },
    {
      "cell_type": "code",
      "metadata": {
        "id": "O-WRZ9jHjWrV"
      },
      "source": [
        "# from sklearn.tree import DecisionTreeClassifier\n",
        "\n",
        "# dtc_grid = {\"max_depth\": [3, None],\n",
        "#               \"max_features\": randint(1, 9),\n",
        "#               \"min_samples_leaf\": randint(1, 9),\n",
        "#               \"criterion\": [\"gini\", \"entropy\"]}\n",
        "\n",
        "# dtc_search = RandomizedSearchCV(estimator=DecisionTreeClassifier(),\n",
        "#                           param_distributions=dtc_grid,\n",
        "#                           cv=5,\n",
        "#                           scoring='f1',\n",
        "#                           verbose=True)\n",
        "\n",
        "# dtc_search.fit(X_train, y_train)\n",
        "# dtc_best_params = dtc_search.best_params_\n",
        "# print(dtc_best_params)"
      ],
      "execution_count": null,
      "outputs": []
    },
    {
      "cell_type": "code",
      "metadata": {
        "id": "MnmHlPB7jfqa",
        "colab": {
          "base_uri": "https://localhost:8080/"
        },
        "outputId": "46333d6e-912e-4549-a913-0cd1458b15e5"
      },
      "source": [
        "from sklearn.tree import DecisionTreeClassifier\n",
        "\n",
        "dtc_model = DecisionTreeClassifier()\n",
        "dtc_model.fit(X_train, y_train)"
      ],
      "execution_count": null,
      "outputs": [
        {
          "output_type": "execute_result",
          "data": {
            "text/plain": [
              "DecisionTreeClassifier(ccp_alpha=0.0, class_weight=None, criterion='gini',\n",
              "                       max_depth=None, max_features=None, max_leaf_nodes=None,\n",
              "                       min_impurity_decrease=0.0, min_impurity_split=None,\n",
              "                       min_samples_leaf=1, min_samples_split=2,\n",
              "                       min_weight_fraction_leaf=0.0, presort='deprecated',\n",
              "                       random_state=None, splitter='best')"
            ]
          },
          "metadata": {
            "tags": []
          },
          "execution_count": 16
        }
      ]
    },
    {
      "cell_type": "code",
      "metadata": {
        "id": "w9rlg3BNjh4i",
        "colab": {
          "base_uri": "https://localhost:8080/"
        },
        "outputId": "b15dd4d7-87f1-4d1a-92ee-112f2a0684d6"
      },
      "source": [
        "y_pred_dtc = dtc_model.predict(X_test)\n",
        "\n",
        "f1_score_dtc = f1_score(y_test, y_pred_dtc)\n",
        "print(f1_score_dtc)"
      ],
      "execution_count": null,
      "outputs": [
        {
          "output_type": "stream",
          "text": [
            "0.6877409406322282\n"
          ],
          "name": "stdout"
        }
      ]
    },
    {
      "cell_type": "code",
      "metadata": {
        "id": "Zmd4uK0Zjkl7"
      },
      "source": [
        "f1_scores[\"DecisionTreeClassifier\"] = f1_score_dtc"
      ],
      "execution_count": null,
      "outputs": []
    },
    {
      "cell_type": "markdown",
      "metadata": {
        "id": "XVD4n7Lljuv_"
      },
      "source": [
        "# Ensemble"
      ]
    },
    {
      "cell_type": "code",
      "metadata": {
        "id": "xZwkyFXfjt6V"
      },
      "source": [
        "# from sklearn.ensemble import RandomForestClassifier\n",
        "\n",
        "# rfc_grid = {\"n_estimators\": [10, 100, 200, 500, 1000, 1200],\n",
        "#             \"max_depth\": [5, 8, 15, 25, 30],\n",
        "#             \"max_features\": [\"auto\", \"sqrt\"],\n",
        "#             \"min_samples_split\": [2, 5, 10, 15, 100],\n",
        "#             \"min_samples_leaf\": [1, 2, 5, 10]}\n",
        "\n",
        "# rfc_search = RandomizedSearchCV(estimator=RandomForestClassifier(),\n",
        "#                           param_distributions=rfc_grid,\n",
        "#                           cv=5,\n",
        "#                           scoring='f1',\n",
        "#                           verbose=True)\n",
        "\n",
        "# rfc_search.fit(X_train, y_train)\n",
        "# rfc_best_params = rfc_search.best_params_\n",
        "# print(rfc_best_params)"
      ],
      "execution_count": null,
      "outputs": []
    },
    {
      "cell_type": "code",
      "metadata": {
        "id": "YEcWA98Tj1q9",
        "colab": {
          "base_uri": "https://localhost:8080/"
        },
        "outputId": "bf065762-bfb7-4f91-c007-5775589f7142"
      },
      "source": [
        "from sklearn.ensemble import RandomForestClassifier\n",
        "\n",
        "rfc_model = RandomForestClassifier()\n",
        "rfc_model.fit(X_train, y_train)"
      ],
      "execution_count": null,
      "outputs": [
        {
          "output_type": "execute_result",
          "data": {
            "text/plain": [
              "RandomForestClassifier(bootstrap=True, ccp_alpha=0.0, class_weight=None,\n",
              "                       criterion='gini', max_depth=None, max_features='auto',\n",
              "                       max_leaf_nodes=None, max_samples=None,\n",
              "                       min_impurity_decrease=0.0, min_impurity_split=None,\n",
              "                       min_samples_leaf=1, min_samples_split=2,\n",
              "                       min_weight_fraction_leaf=0.0, n_estimators=100,\n",
              "                       n_jobs=None, oob_score=False, random_state=None,\n",
              "                       verbose=0, warm_start=False)"
            ]
          },
          "metadata": {
            "tags": []
          },
          "execution_count": 20
        }
      ]
    },
    {
      "cell_type": "code",
      "metadata": {
        "id": "GnyJMrNHj3Xq",
        "colab": {
          "base_uri": "https://localhost:8080/"
        },
        "outputId": "e470f78c-f790-474c-910d-498465d5ab17"
      },
      "source": [
        "y_pred_rfc = rfc_model.predict(X_test)\n",
        "\n",
        "f1_score_rfc = f1_score(y_test, y_pred_rfc)\n",
        "print(f1_score_rfc)"
      ],
      "execution_count": null,
      "outputs": [
        {
          "output_type": "stream",
          "text": [
            "0.7190635451505016\n"
          ],
          "name": "stdout"
        }
      ]
    },
    {
      "cell_type": "code",
      "metadata": {
        "id": "9FCARKQ3j6li"
      },
      "source": [
        "f1_scores[\"RandomForestClassifier\"] = f1_score_rfc"
      ],
      "execution_count": null,
      "outputs": []
    },
    {
      "cell_type": "markdown",
      "metadata": {
        "id": "6qn-3uI8j8YY"
      },
      "source": [
        "# XGBoost"
      ]
    },
    {
      "cell_type": "code",
      "metadata": {
        "id": "P53OEkm5kHOm",
        "colab": {
          "base_uri": "https://localhost:8080/"
        },
        "outputId": "fbb2a37f-4102-4106-cc40-ef997eb58bd5"
      },
      "source": [
        "from xgboost import XGBClassifier\n",
        "\n",
        "xgb_model = XGBClassifier(n_estimators=1000, learning_rate=0.05, n_jobs=-1)\n",
        "xgb_model.fit(X_train, y_train)"
      ],
      "execution_count": null,
      "outputs": [
        {
          "output_type": "execute_result",
          "data": {
            "text/plain": [
              "XGBClassifier(base_score=0.5, booster='gbtree', colsample_bylevel=1,\n",
              "              colsample_bynode=1, colsample_bytree=1, gamma=0,\n",
              "              learning_rate=0.05, max_delta_step=0, max_depth=3,\n",
              "              min_child_weight=1, missing=None, n_estimators=1000, n_jobs=-1,\n",
              "              nthread=None, objective='binary:logistic', random_state=0,\n",
              "              reg_alpha=0, reg_lambda=1, scale_pos_weight=1, seed=None,\n",
              "              silent=None, subsample=1, verbosity=1)"
            ]
          },
          "metadata": {
            "tags": []
          },
          "execution_count": 23
        }
      ]
    },
    {
      "cell_type": "code",
      "metadata": {
        "id": "Kv1K8UNUkk34",
        "colab": {
          "base_uri": "https://localhost:8080/"
        },
        "outputId": "45d42d68-f152-4b22-89bc-f6b3e275bd74"
      },
      "source": [
        "y_pred_xgb = xgb_model.predict(X_test)\n",
        "\n",
        "f1_score_xgb = f1_score(y_test, y_pred_xgb)\n",
        "print(f1_score_xgb)"
      ],
      "execution_count": null,
      "outputs": [
        {
          "output_type": "stream",
          "text": [
            "0.7139107611548556\n"
          ],
          "name": "stdout"
        }
      ]
    },
    {
      "cell_type": "code",
      "metadata": {
        "id": "U9qHAbM9X9wP"
      },
      "source": [
        "f1_scores[\"XGBoost\"] = f1_score_xgb"
      ],
      "execution_count": null,
      "outputs": []
    },
    {
      "cell_type": "code",
      "metadata": {
        "id": "jhnhy5L4YB17",
        "colab": {
          "base_uri": "https://localhost:8080/"
        },
        "outputId": "e7dc87ff-3537-4034-8a6c-9611fdade697"
      },
      "source": [
        "f1_scores"
      ],
      "execution_count": null,
      "outputs": [
        {
          "output_type": "execute_result",
          "data": {
            "text/plain": [
              "{'DecisionTreeClassifier': 0.6877409406322282,\n",
              " 'KNeighborsClassifier': 0.5167037861915368,\n",
              " 'LogisticRegression': 0.742857142857143,\n",
              " 'RandomForestClassifier': 0.7190635451505016,\n",
              " 'XGBoost': 0.7139107611548556}"
            ]
          },
          "metadata": {
            "tags": []
          },
          "execution_count": 26
        }
      ]
    },
    {
      "cell_type": "code",
      "metadata": {
        "id": "gUKnpbCCZMma"
      },
      "source": [
        "# output = pd.DataFrame({'Id': X_test.index,\n",
        "#                        'SalePrice': preds_test})\n",
        "# output.to_csv('submission.csv', index=False)\n",
        "\n"
      ],
      "execution_count": null,
      "outputs": []
    },
    {
      "cell_type": "markdown",
      "metadata": {
        "id": "8B2H9SGw9XyS"
      },
      "source": [
        "# Submission of model, trained on full training set"
      ]
    },
    {
      "cell_type": "code",
      "metadata": {
        "id": "t8K9VAHMIEkZ"
      },
      "source": [
        "lr_grid = {'penalty' : ['l1', 'l2'],\n",
        "            'C' : np.logspace(-4, 4, 20),\n",
        "            'solver' : ['liblinear']}"
      ],
      "execution_count": null,
      "outputs": []
    },
    {
      "cell_type": "code",
      "metadata": {
        "colab": {
          "base_uri": "https://localhost:8080/"
        },
        "id": "O6xOmB_cHkrT",
        "outputId": "6f6ab1ac-4cc4-4632-92b9-f84188765935"
      },
      "source": [
        "from sklearn.model_selection import GridSearchCV\n",
        "\n",
        "lr_model = LogisticRegression()\n",
        "lr_model_grid = GridSearchCV(estimator=lr_model,\n",
        "                             param_grid=lr_grid,\n",
        "                             scoring='f1',\n",
        "                             n_jobs=-1,\n",
        "                             cv=5,\n",
        "                             verbose=True)\n",
        "\n",
        "\n",
        "lr_model_grid.fit(X_train, y_train)\n",
        "%time"
      ],
      "execution_count": null,
      "outputs": [
        {
          "output_type": "stream",
          "text": [
            "Fitting 5 folds for each of 40 candidates, totalling 200 fits\n"
          ],
          "name": "stdout"
        },
        {
          "output_type": "stream",
          "text": [
            "[Parallel(n_jobs=-1)]: Using backend LokyBackend with 2 concurrent workers.\n",
            "[Parallel(n_jobs=-1)]: Done  46 tasks      | elapsed:    5.5s\n",
            "[Parallel(n_jobs=-1)]: Done 196 tasks      | elapsed:  1.5min\n",
            "[Parallel(n_jobs=-1)]: Done 200 out of 200 | elapsed:  1.8min finished\n"
          ],
          "name": "stderr"
        },
        {
          "output_type": "stream",
          "text": [
            "CPU times: user 3 µs, sys: 0 ns, total: 3 µs\n",
            "Wall time: 5.25 µs\n"
          ],
          "name": "stdout"
        }
      ]
    },
    {
      "cell_type": "code",
      "metadata": {
        "colab": {
          "base_uri": "https://localhost:8080/"
        },
        "id": "cW2UW67ZWL_K",
        "outputId": "2da22da0-67be-4ae3-9079-7e5d8b167bc0"
      },
      "source": [
        "lr_model_grid_params = lr_model_grid.best_params_\n",
        "print(lr_model_grid_params)"
      ],
      "execution_count": null,
      "outputs": [
        {
          "output_type": "stream",
          "text": [
            "{'C': 0.23357214690901212, 'penalty': 'l2', 'solver': 'liblinear'}\n"
          ],
          "name": "stdout"
        }
      ]
    },
    {
      "cell_type": "code",
      "metadata": {
        "colab": {
          "base_uri": "https://localhost:8080/"
        },
        "id": "NMqU-fsTXID9",
        "outputId": "01ed2200-cefd-4158-bfc1-027aadb733a9"
      },
      "source": [
        "cv_final = CountVectorizer(max_features=2500)\n",
        "X_train_full = cv_final.fit_transform(X).toarray()\n",
        "\n",
        "lr_model_final = LogisticRegression(**lr_model_grid_params)\n",
        "lr_model_final.fit(X_train_full, y)"
      ],
      "execution_count": null,
      "outputs": [
        {
          "output_type": "execute_result",
          "data": {
            "text/plain": [
              "LogisticRegression(C=0.23357214690901212, class_weight=None, dual=False,\n",
              "                   fit_intercept=True, intercept_scaling=1, l1_ratio=None,\n",
              "                   max_iter=100, multi_class='auto', n_jobs=None, penalty='l2',\n",
              "                   random_state=None, solver='liblinear', tol=0.0001, verbose=0,\n",
              "                   warm_start=False)"
            ]
          },
          "metadata": {
            "tags": []
          },
          "execution_count": 31
        }
      ]
    },
    {
      "cell_type": "code",
      "metadata": {
        "colab": {
          "base_uri": "https://localhost:8080/"
        },
        "id": "egDo3oIrICJi",
        "outputId": "6cfacd58-c122-4f29-be53-8b3c8a9a49e5"
      },
      "source": [
        "y_pred_lr_final = lr_model_final.predict(X_train_full)\n",
        "\n",
        "f1_score_lr_final = f1_score(y, y_pred_lr_final)\n",
        "print(f1_score_lr_final)"
      ],
      "execution_count": null,
      "outputs": [
        {
          "output_type": "stream",
          "text": [
            "0.8306878306878308\n"
          ],
          "name": "stdout"
        }
      ]
    },
    {
      "cell_type": "code",
      "metadata": {
        "id": "NNRekDmm1itC"
      },
      "source": [
        "X_test_full = pd.read_csv(\"test.csv\")"
      ],
      "execution_count": null,
      "outputs": []
    },
    {
      "cell_type": "code",
      "metadata": {
        "id": "hVi04LtT2gdC"
      },
      "source": [
        "# Transforming X_test_full to vector"
      ],
      "execution_count": null,
      "outputs": []
    },
    {
      "cell_type": "code",
      "metadata": {
        "id": "6Tka5jx32gfY"
      },
      "source": [
        "test_corpus = []\n",
        "ps = PorterStemmer()\n",
        "all_stopwords = stopwords.words('english')[:143]\n",
        "all_stopwords.remove('not')\n",
        "all_stopwords.remove(\"don\")\n",
        "all_stopwords.remove(\"don't\")\n",
        "for i in range(0, len(X_test_full)):\n",
        "  tweet = re.sub('[^a-zA-Z]', ' ', str(X_test_full['text'][i]))\n",
        "  tweet = tweet.lower()\n",
        "  tweet = tweet.split()\n",
        "  tweet = [ps.stem(word) for word in tweet if not word in set(all_stopwords)]\n",
        "  tweet = ' '.join(tweet)\n",
        "  test_corpus.append(tweet)"
      ],
      "execution_count": null,
      "outputs": []
    },
    {
      "cell_type": "code",
      "metadata": {
        "id": "u4A8RHKv3vNH"
      },
      "source": [
        "#cv_final = CountVectorizer(max_features=2000)\n",
        "X_test_vectorized = cv_final.transform(test_corpus).toarray()"
      ],
      "execution_count": null,
      "outputs": []
    },
    {
      "cell_type": "code",
      "metadata": {
        "id": "YiVKJgAc1lFc"
      },
      "source": [
        "y_pred_test = lr_model_final.predict(X_test_vectorized)"
      ],
      "execution_count": null,
      "outputs": []
    },
    {
      "cell_type": "code",
      "metadata": {
        "colab": {
          "base_uri": "https://localhost:8080/"
        },
        "id": "-t-TABy013v2",
        "outputId": "7e38fa0c-29b3-438c-8ec6-f84858833531"
      },
      "source": [
        "y_pred_test[:10]"
      ],
      "execution_count": null,
      "outputs": [
        {
          "output_type": "execute_result",
          "data": {
            "text/plain": [
              "array([1, 1, 1, 1, 1, 1, 0, 0, 0, 0])"
            ]
          },
          "metadata": {
            "tags": []
          },
          "execution_count": 38
        }
      ]
    },
    {
      "cell_type": "code",
      "metadata": {
        "id": "h6R6wWdddX3s"
      },
      "source": [
        "# Save test predictions to file\n",
        "output = pd.DataFrame({'id': X_test_full.id,\n",
        "                       'target': y_pred_test})\n",
        "output.to_csv('submission.csv', index=False)"
      ],
      "execution_count": null,
      "outputs": []
    },
    {
      "cell_type": "code",
      "metadata": {
        "id": "ucWiHRf04VnP"
      },
      "source": [
        ""
      ],
      "execution_count": null,
      "outputs": []
    }
  ]
}