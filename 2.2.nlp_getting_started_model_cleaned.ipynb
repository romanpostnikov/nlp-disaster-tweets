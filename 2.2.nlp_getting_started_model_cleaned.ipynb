{
  "nbformat": 4,
  "nbformat_minor": 0,
  "metadata": {
    "accelerator": "GPU",
    "colab": {
      "name": "nlp-getting-started-model-cleaned.ipynb",
      "provenance": [],
      "collapsed_sections": [],
      "toc_visible": true
    },
    "kernelspec": {
      "display_name": "Python 3",
      "name": "python3"
    }
  },
  "cells": [
    {
      "cell_type": "code",
      "metadata": {
        "id": "G4fFTVC66aNF"
      },
      "source": [
        "import pandas as pd\n",
        "import numpy as np\n",
        "import matplotlib.pyplot as plt"
      ],
      "execution_count": null,
      "outputs": []
    },
    {
      "cell_type": "code",
      "metadata": {
        "id": "v03n674yMIpE",
        "colab": {
          "base_uri": "https://localhost:8080/",
          "height": 204
        },
        "outputId": "bd6c8195-c5fd-428e-f2fd-625dab73fc94"
      },
      "source": [
        "dataset = pd.read_csv(\"train.csv\")\n",
        "dataset.head()"
      ],
      "execution_count": null,
      "outputs": [
        {
          "output_type": "execute_result",
          "data": {
            "text/html": [
              "<div>\n",
              "<style scoped>\n",
              "    .dataframe tbody tr th:only-of-type {\n",
              "        vertical-align: middle;\n",
              "    }\n",
              "\n",
              "    .dataframe tbody tr th {\n",
              "        vertical-align: top;\n",
              "    }\n",
              "\n",
              "    .dataframe thead th {\n",
              "        text-align: right;\n",
              "    }\n",
              "</style>\n",
              "<table border=\"1\" class=\"dataframe\">\n",
              "  <thead>\n",
              "    <tr style=\"text-align: right;\">\n",
              "      <th></th>\n",
              "      <th>id</th>\n",
              "      <th>keyword</th>\n",
              "      <th>location</th>\n",
              "      <th>text</th>\n",
              "      <th>target</th>\n",
              "    </tr>\n",
              "  </thead>\n",
              "  <tbody>\n",
              "    <tr>\n",
              "      <th>0</th>\n",
              "      <td>1</td>\n",
              "      <td>NaN</td>\n",
              "      <td>NaN</td>\n",
              "      <td>Our Deeds are the Reason of this #earthquake M...</td>\n",
              "      <td>1</td>\n",
              "    </tr>\n",
              "    <tr>\n",
              "      <th>1</th>\n",
              "      <td>4</td>\n",
              "      <td>NaN</td>\n",
              "      <td>NaN</td>\n",
              "      <td>Forest fire near La Ronge Sask. Canada</td>\n",
              "      <td>1</td>\n",
              "    </tr>\n",
              "    <tr>\n",
              "      <th>2</th>\n",
              "      <td>5</td>\n",
              "      <td>NaN</td>\n",
              "      <td>NaN</td>\n",
              "      <td>All residents asked to 'shelter in place' are ...</td>\n",
              "      <td>1</td>\n",
              "    </tr>\n",
              "    <tr>\n",
              "      <th>3</th>\n",
              "      <td>6</td>\n",
              "      <td>NaN</td>\n",
              "      <td>NaN</td>\n",
              "      <td>13,000 people receive #wildfires evacuation or...</td>\n",
              "      <td>1</td>\n",
              "    </tr>\n",
              "    <tr>\n",
              "      <th>4</th>\n",
              "      <td>7</td>\n",
              "      <td>NaN</td>\n",
              "      <td>NaN</td>\n",
              "      <td>Just got sent this photo from Ruby #Alaska as ...</td>\n",
              "      <td>1</td>\n",
              "    </tr>\n",
              "  </tbody>\n",
              "</table>\n",
              "</div>"
            ],
            "text/plain": [
              "   id keyword  ...                                               text target\n",
              "0   1     NaN  ...  Our Deeds are the Reason of this #earthquake M...      1\n",
              "1   4     NaN  ...             Forest fire near La Ronge Sask. Canada      1\n",
              "2   5     NaN  ...  All residents asked to 'shelter in place' are ...      1\n",
              "3   6     NaN  ...  13,000 people receive #wildfires evacuation or...      1\n",
              "4   7     NaN  ...  Just got sent this photo from Ruby #Alaska as ...      1\n",
              "\n",
              "[5 rows x 5 columns]"
            ]
          },
          "metadata": {
            "tags": []
          },
          "execution_count": 2
        }
      ]
    },
    {
      "cell_type": "markdown",
      "metadata": {
        "id": "HNpdxMxsMlFu"
      },
      "source": [
        "So I will try to compose a few combinations of data & models to find the best one and use it as a final one. Those combinations are:\n",
        "* Data with no changes (only tweet text used);\n",
        "  * Use this data to build mostly used sklearn ML models and one DL model:\n",
        "    * Logistic Regression;\n",
        "    * K-neighbors;\n",
        "    * SVC;\n",
        "    * Decision Tree;\n",
        "    * Ensemble;\n",
        "    * Naive Bayes;\n",
        "    * ANN;\n",
        "* Data with cleaned up text in tweets (removed symbols, stop-words and stemmed text);\n",
        "  * Use this data to build mostly used sklearn ML models and one DL model (same models as in previous chapter);\n",
        "* Data with cleaned up text in tweets and properly formatted \"location\" and \"keyword\" columns;\n",
        "  * Use this data to build mostly used sklearn ML models and one DL model (same models as in previous chapter);"
      ]
    },
    {
      "cell_type": "code",
      "metadata": {
        "id": "0tgOACXsbBTE",
        "colab": {
          "base_uri": "https://localhost:8080/",
          "height": 51
        },
        "outputId": "503553a1-8c68-466c-d3ee-a2ac22a522d5"
      },
      "source": [
        "import re\n",
        "import nltk\n",
        "nltk.download(\"stopwords\") # downloads stopwords\n",
        "from nltk.corpus import stopwords # imports them afterwards\n",
        "from nltk.stem.porter import PorterStemmer # applies stemming, takes only roots of the words\n",
        "corpus = [] # it will contain all our different tweets, but all clean\n",
        "ps = PorterStemmer()\n",
        "all_stopwords = stopwords.words('english')[:143]\n",
        "all_stopwords.remove('not')\n",
        "all_stopwords.remove(\"don\")\n",
        "all_stopwords.remove(\"don't\")\n",
        "for i in range(0, len(dataset)):\n",
        "  tweet = re.sub('[^a-zA-Z]', ' ', dataset['text'][i])\n",
        "  tweet = tweet.lower()\n",
        "  tweet = tweet.split()\n",
        "  tweet = [ps.stem(word) for word in tweet if not word in set(all_stopwords)]\n",
        "  tweet = ' '.join(tweet)\n",
        "  corpus.append(tweet)"
      ],
      "execution_count": null,
      "outputs": [
        {
          "output_type": "stream",
          "text": [
            "[nltk_data] Downloading package stopwords to /root/nltk_data...\n",
            "[nltk_data]   Unzipping corpora/stopwords.zip.\n"
          ],
          "name": "stdout"
        }
      ]
    },
    {
      "cell_type": "code",
      "metadata": {
        "id": "IM08cGunZP8G"
      },
      "source": [
        "from sklearn.feature_extraction.text import CountVectorizer\n",
        "cv = CountVectorizer()\n",
        "\n",
        "X = cv.fit_transform(corpus).toarray()\n",
        "y = dataset[\"target\"].values"
      ],
      "execution_count": null,
      "outputs": []
    },
    {
      "cell_type": "code",
      "metadata": {
        "id": "j6xgThxkZtFP",
        "colab": {
          "base_uri": "https://localhost:8080/",
          "height": 34
        },
        "outputId": "2316489e-0b1b-47ab-b1f2-9079e1927ea6"
      },
      "source": [
        "len(X[0])"
      ],
      "execution_count": null,
      "outputs": [
        {
          "output_type": "execute_result",
          "data": {
            "text/plain": [
              "18887"
            ]
          },
          "metadata": {
            "tags": []
          },
          "execution_count": 5
        }
      ]
    },
    {
      "cell_type": "code",
      "metadata": {
        "id": "89uxyYHxb0_8",
        "colab": {
          "base_uri": "https://localhost:8080/",
          "height": 136
        },
        "outputId": "c50afcbf-370f-4985-f868-b1393fb5614f"
      },
      "source": [
        "X[:20]"
      ],
      "execution_count": null,
      "outputs": [
        {
          "output_type": "execute_result",
          "data": {
            "text/plain": [
              "array([[0, 0, 0, ..., 0, 0, 0],\n",
              "       [0, 0, 0, ..., 0, 0, 0],\n",
              "       [0, 0, 0, ..., 0, 0, 0],\n",
              "       ...,\n",
              "       [0, 0, 0, ..., 0, 0, 0],\n",
              "       [0, 0, 0, ..., 0, 0, 0],\n",
              "       [0, 0, 0, ..., 0, 0, 0]])"
            ]
          },
          "metadata": {
            "tags": []
          },
          "execution_count": 6
        }
      ]
    },
    {
      "cell_type": "code",
      "metadata": {
        "id": "CmSWByvzZuiz"
      },
      "source": [
        "from sklearn.model_selection import train_test_split\n",
        "\n",
        "X_train, X_test, y_train, y_test = train_test_split(X, y, test_size=0.2, random_state=42)"
      ],
      "execution_count": null,
      "outputs": []
    },
    {
      "cell_type": "markdown",
      "metadata": {
        "id": "Wg7UGfmmnF0B"
      },
      "source": [
        "# Logistic Regression"
      ]
    },
    {
      "cell_type": "code",
      "metadata": {
        "id": "n1d3Kgwgnw-A"
      },
      "source": [
        "# from sklearn.linear_model import LogisticRegression\n",
        "# from sklearn.model_selection import RandomizedSearchCV\n",
        "\n",
        "# lr_grid = {\"C\": np.logspace(-4, 4, 40),\n",
        "#                 \"penalty\": ['l1', 'l2'],\n",
        "#                 \"solver\": [\"liblinear\"]}\n",
        "\n",
        "# lr_search = RandomizedSearchCV(estimator=LogisticRegression(),\n",
        "#                           param_distributions=lr_grid,\n",
        "#                           cv=5,\n",
        "#                           scoring='f1',\n",
        "#                           verbose=True)\n",
        "\n",
        "# lr_search.fit(X_train, y_train)\n",
        "# lr_best_params = lr_search.best_params_"
      ],
      "execution_count": null,
      "outputs": []
    },
    {
      "cell_type": "code",
      "metadata": {
        "id": "JSJ7JkFWg7kn",
        "colab": {
          "base_uri": "https://localhost:8080/",
          "height": 101
        },
        "outputId": "2c421b14-eacb-4ed9-bd65-64035668b0bb"
      },
      "source": [
        "from sklearn.linear_model import LogisticRegression\n",
        "\n",
        "lr_model = LogisticRegression(penalty = 'l2',solver = 'liblinear', max_iter=1000)\n",
        "lr_model.fit(X_train, y_train)"
      ],
      "execution_count": null,
      "outputs": [
        {
          "output_type": "execute_result",
          "data": {
            "text/plain": [
              "LogisticRegression(C=1.0, class_weight=None, dual=False, fit_intercept=True,\n",
              "                   intercept_scaling=1, l1_ratio=None, max_iter=1000,\n",
              "                   multi_class='auto', n_jobs=None, penalty='l2',\n",
              "                   random_state=None, solver='liblinear', tol=0.0001, verbose=0,\n",
              "                   warm_start=False)"
            ]
          },
          "metadata": {
            "tags": []
          },
          "execution_count": 9
        }
      ]
    },
    {
      "cell_type": "code",
      "metadata": {
        "id": "8nEFSC373ait"
      },
      "source": [
        "y_pred_lr = lr_model.predict(X_test)"
      ],
      "execution_count": null,
      "outputs": []
    },
    {
      "cell_type": "code",
      "metadata": {
        "id": "EXEMHWiZmn6n",
        "colab": {
          "base_uri": "https://localhost:8080/",
          "height": 34
        },
        "outputId": "bd907a75-0559-4592-b7b6-b7fe05a6dcab"
      },
      "source": [
        "from sklearn.metrics import f1_score\n",
        "\n",
        "f1_score_lr = f1_score(y_test, y_pred_lr)\n",
        "print(f1_score_lr)"
      ],
      "execution_count": null,
      "outputs": [
        {
          "output_type": "stream",
          "text": [
            "0.7360655737704918\n"
          ],
          "name": "stdout"
        }
      ]
    },
    {
      "cell_type": "markdown",
      "metadata": {
        "id": "X-OELfRKnMNs"
      },
      "source": [
        "# K-neighbors"
      ]
    },
    {
      "cell_type": "code",
      "metadata": {
        "id": "k1axJQ3UpsLG"
      },
      "source": [
        "# from sklearn.neighbors import KNeighborsClassifier\n",
        "\n",
        "# knc_grid = {\"leaf_size\": list(range(1, 5)),\n",
        "#             \"n_neighbors\": list(range(1, 5)),\n",
        "#             \"p\": [2]}\n",
        "\n",
        "# knc_search = RandomizedSearchCV(estimator=KNeighborsClassifier(),\n",
        "#                           param_distributions=knc_grid,\n",
        "#                           cv=5,\n",
        "#                           scoring='f1',\n",
        "#                           verbose=True)\n",
        "\n",
        "# knc_search.fit(X_train, y_train)\n",
        "# knc_best_params = knc_search.best_params_"
      ],
      "execution_count": null,
      "outputs": []
    },
    {
      "cell_type": "code",
      "metadata": {
        "id": "oNbvDiqxn8MA",
        "colab": {
          "base_uri": "https://localhost:8080/",
          "height": 67
        },
        "outputId": "f59dcf51-21f9-4595-fb6c-61fb1109e718"
      },
      "source": [
        "from sklearn.neighbors import KNeighborsClassifier\n",
        "\n",
        "knc_model = KNeighborsClassifier()\n",
        "knc_model.fit(X_train, y_train)"
      ],
      "execution_count": null,
      "outputs": [
        {
          "output_type": "execute_result",
          "data": {
            "text/plain": [
              "KNeighborsClassifier(algorithm='auto', leaf_size=30, metric='minkowski',\n",
              "                     metric_params=None, n_jobs=None, n_neighbors=5, p=2,\n",
              "                     weights='uniform')"
            ]
          },
          "metadata": {
            "tags": []
          },
          "execution_count": 13
        }
      ]
    },
    {
      "cell_type": "code",
      "metadata": {
        "id": "ELuH9582oKT2"
      },
      "source": [
        "y_pred_knc = knc_model.predict(X_test)"
      ],
      "execution_count": null,
      "outputs": []
    },
    {
      "cell_type": "code",
      "metadata": {
        "id": "BmEYW7XqoVxX",
        "colab": {
          "base_uri": "https://localhost:8080/",
          "height": 34
        },
        "outputId": "33eed50a-21f9-40cd-94d0-aea46bfefd5e"
      },
      "source": [
        "f1_score_knc = f1_score(y_test, y_pred_knc)\n",
        "print(f1_score_knc)"
      ],
      "execution_count": null,
      "outputs": [
        {
          "output_type": "stream",
          "text": [
            "0.42857142857142855\n"
          ],
          "name": "stdout"
        }
      ]
    },
    {
      "cell_type": "markdown",
      "metadata": {
        "id": "c5o3XGLoojqo"
      },
      "source": [
        "# SVC"
      ]
    },
    {
      "cell_type": "code",
      "metadata": {
        "id": "JzpmHb9Z4p95"
      },
      "source": [
        "# from sklearn.svm import SVC\n",
        "\n",
        "# svc_grid = {'C': [0.1,1, 10, 100], \n",
        "#             'gamma': [1,0.1,0.01,0.001],\n",
        "#             'kernel': ['rbf', 'poly', 'sigmoid']}\n",
        "\n",
        "# svc_search = RandomizedSearchCV(estimator=SVC(),\n",
        "#                           param_distributions=svc_grid,\n",
        "#                           cv=5,\n",
        "#                           scoring='f1',\n",
        "#                           verbose=True)\n",
        "\n",
        "# svc_search.fit(X_train, y_train)\n",
        "# svc_best_params = svc_search.best_params_"
      ],
      "execution_count": null,
      "outputs": []
    },
    {
      "cell_type": "code",
      "metadata": {
        "id": "cmBg5rq6pg6r",
        "colab": {
          "base_uri": "https://localhost:8080/",
          "height": 84
        },
        "outputId": "7485f089-a2ad-4a7a-e144-5bcfac5e507c"
      },
      "source": [
        "from sklearn.svm import SVC\n",
        "\n",
        "svc_model = SVC()\n",
        "svc_model.fit(X_train, y_train)"
      ],
      "execution_count": null,
      "outputs": [
        {
          "output_type": "execute_result",
          "data": {
            "text/plain": [
              "SVC(C=1.0, break_ties=False, cache_size=200, class_weight=None, coef0=0.0,\n",
              "    decision_function_shape='ovr', degree=3, gamma='scale', kernel='rbf',\n",
              "    max_iter=-1, probability=False, random_state=None, shrinking=True,\n",
              "    tol=0.001, verbose=False)"
            ]
          },
          "metadata": {
            "tags": []
          },
          "execution_count": 17
        }
      ]
    },
    {
      "cell_type": "code",
      "metadata": {
        "id": "3iF5Aj_aqCzP",
        "colab": {
          "background_save": true
        }
      },
      "source": [
        "y_pred_svc = svc_model.predict(X_test)"
      ],
      "execution_count": null,
      "outputs": []
    },
    {
      "cell_type": "code",
      "metadata": {
        "id": "dcte1lW8qp7q",
        "colab": {
          "background_save": true
        },
        "outputId": "15cb09f2-44fa-47a2-c018-ecef3aab6f88"
      },
      "source": [
        "f1_score_svc = f1_score(y_test, y_pred_svc)\n",
        "print(f1_score_svc)"
      ],
      "execution_count": null,
      "outputs": [
        {
          "output_type": "stream",
          "text": [
            "0.7585616438356163\n"
          ],
          "name": "stdout"
        }
      ]
    },
    {
      "cell_type": "markdown",
      "metadata": {
        "id": "mF37NNkhq0Nf"
      },
      "source": [
        "# Decision Tree"
      ]
    },
    {
      "cell_type": "code",
      "metadata": {
        "id": "vor3nQKw6eEB",
        "colab": {
          "background_save": true
        }
      },
      "source": [
        "# from sklearn.tree import DecisionTreeClassifier\n",
        "\n",
        "# dtc_grid = {\"max_depth\": [3, None],\n",
        "#               \"max_features\": randint(1, 9),\n",
        "#               \"min_samples_leaf\": randint(1, 9),\n",
        "#               \"criterion\": [\"gini\", \"entropy\"]}\n",
        "\n",
        "# dtc_search = RandomizedSearchCV(estimator=DecisionTreeClassifier(),\n",
        "#                           param_distributions=dtc_grid,\n",
        "#                           cv=5,\n",
        "#                           scoring='f1',\n",
        "#                           verbose=True)\n",
        "\n",
        "# dtc_search.fit(X_train, y_train)\n",
        "# dtc_best_params = dtc_search.best_params_"
      ],
      "execution_count": null,
      "outputs": []
    },
    {
      "cell_type": "code",
      "metadata": {
        "id": "H8vPoUu5rMd3",
        "colab": {
          "background_save": true
        },
        "outputId": "d02e413a-5422-4eba-cd01-940d899c0637"
      },
      "source": [
        "from sklearn.tree import DecisionTreeClassifier\n",
        "\n",
        "dtc_model = DecisionTreeClassifier()\n",
        "dtc_model.fit(X_train, y_train)"
      ],
      "execution_count": null,
      "outputs": [
        {
          "output_type": "execute_result",
          "data": {
            "text/plain": [
              "DecisionTreeClassifier(ccp_alpha=0.0, class_weight=None, criterion='gini',\n",
              "                       max_depth=None, max_features=None, max_leaf_nodes=None,\n",
              "                       min_impurity_decrease=0.0, min_impurity_split=None,\n",
              "                       min_samples_leaf=1, min_samples_split=2,\n",
              "                       min_weight_fraction_leaf=0.0, presort='deprecated',\n",
              "                       random_state=None, splitter='best')"
            ]
          },
          "metadata": {
            "tags": []
          },
          "execution_count": 0
        }
      ]
    },
    {
      "cell_type": "code",
      "metadata": {
        "id": "j8CVG3_YrMlB",
        "colab": {
          "background_save": true
        }
      },
      "source": [
        "y_pred_dtc = dtc_model.predict(X_test)"
      ],
      "execution_count": null,
      "outputs": []
    },
    {
      "cell_type": "code",
      "metadata": {
        "id": "cX301R9erMn7",
        "colab": {
          "background_save": true
        },
        "outputId": "a1c5f2f6-beae-4ea4-aab0-1a5c8b7989a9"
      },
      "source": [
        "f1_score_dtc = f1_score(y_test, y_pred_dtc)\n",
        "print(f1_score_dtc)"
      ],
      "execution_count": null,
      "outputs": [
        {
          "output_type": "stream",
          "text": [
            "0.6776470588235294\n"
          ],
          "name": "stdout"
        }
      ]
    },
    {
      "cell_type": "markdown",
      "metadata": {
        "id": "8F7pouujq7gC"
      },
      "source": [
        "# Ensemble"
      ]
    },
    {
      "cell_type": "code",
      "metadata": {
        "id": "9uHeDWwX6990",
        "colab": {
          "background_save": true
        }
      },
      "source": [
        "# from sklearn.ensemble import RandomForestClassifier\n",
        "\n",
        "# rfc_grid = {\"n_estimators\": [10, 100, 200, 500, 1000, 1200],\n",
        "#             \"max_depth\": [5, 8, 15, 25, 30],\n",
        "#             \"max_features\": [\"auto\", \"sqrt\"],\n",
        "#             \"min_samples_split\": [2, 5, 10, 15, 100],\n",
        "#             \"min_samples_leaf\": [1, 2, 5, 10]}\n",
        "\n",
        "# rfc_search = RandomizedSearchCV(estimator=RandomForestClassifier(),\n",
        "#                           param_distributions=rfc_grid,\n",
        "#                           cv=5,\n",
        "#                           scoring='f1',\n",
        "#                           verbose=True)\n",
        "\n",
        "# rfc_search.fit(X_train, y_train)\n",
        "# rfc_best_params = rfc_search.best_params_"
      ],
      "execution_count": null,
      "outputs": []
    },
    {
      "cell_type": "code",
      "metadata": {
        "id": "Sp185W-trTkJ",
        "colab": {
          "background_save": true
        },
        "outputId": "f8ece843-b6a5-4be7-cc68-16432ead6eb6"
      },
      "source": [
        "from sklearn.ensemble import RandomForestClassifier\n",
        "\n",
        "rfc_model = RandomForestClassifier()\n",
        "rfc_model.fit(X_train, y_train)"
      ],
      "execution_count": null,
      "outputs": [
        {
          "output_type": "execute_result",
          "data": {
            "text/plain": [
              "RandomForestClassifier(bootstrap=True, ccp_alpha=0.0, class_weight=None,\n",
              "                       criterion='gini', max_depth=None, max_features='auto',\n",
              "                       max_leaf_nodes=None, max_samples=None,\n",
              "                       min_impurity_decrease=0.0, min_impurity_split=None,\n",
              "                       min_samples_leaf=1, min_samples_split=2,\n",
              "                       min_weight_fraction_leaf=0.0, n_estimators=100,\n",
              "                       n_jobs=None, oob_score=False, random_state=None,\n",
              "                       verbose=0, warm_start=False)"
            ]
          },
          "metadata": {
            "tags": []
          },
          "execution_count": 0
        }
      ]
    },
    {
      "cell_type": "code",
      "metadata": {
        "id": "d968BMf9rTzu",
        "colab": {
          "background_save": true
        }
      },
      "source": [
        "y_pred_rfc = rfc_model.predict(X_test)"
      ],
      "execution_count": null,
      "outputs": []
    },
    {
      "cell_type": "code",
      "metadata": {
        "id": "sDuvKEBPrT2V",
        "colab": {
          "background_save": true
        },
        "outputId": "6898590b-6083-4bc8-ee1b-610402697d5b"
      },
      "source": [
        "f1_score_rfc = f1_score(y_test, y_pred_rfc)\n",
        "print(f1_score_rfc)"
      ],
      "execution_count": null,
      "outputs": [
        {
          "output_type": "stream",
          "text": [
            "0.7180851063829787\n"
          ],
          "name": "stdout"
        }
      ]
    },
    {
      "cell_type": "markdown",
      "metadata": {
        "id": "8J0QQ10Qq9LI"
      },
      "source": [
        "# Naive Bayes"
      ]
    },
    {
      "cell_type": "code",
      "metadata": {
        "id": "8I-NpW1JrUsH",
        "colab": {
          "background_save": true
        },
        "outputId": "623ab35c-0250-4fba-8b78-ad44bc84f311"
      },
      "source": [
        "from sklearn.naive_bayes import GaussianNB\n",
        "\n",
        "gnb_model = GaussianNB()\n",
        "gnb_model.fit(X_train, y_train)"
      ],
      "execution_count": null,
      "outputs": [
        {
          "output_type": "execute_result",
          "data": {
            "text/plain": [
              "GaussianNB(priors=None, var_smoothing=1e-09)"
            ]
          },
          "metadata": {
            "tags": []
          },
          "execution_count": 0
        }
      ]
    },
    {
      "cell_type": "code",
      "metadata": {
        "id": "t9psy2hbrUzN",
        "colab": {
          "background_save": true
        }
      },
      "source": [
        "y_pred_gnb = gnb_model.predict(X_test)"
      ],
      "execution_count": null,
      "outputs": []
    },
    {
      "cell_type": "code",
      "metadata": {
        "id": "iQfsupJGrUxK",
        "colab": {
          "background_save": true
        },
        "outputId": "e898356c-3b32-4cef-d7c7-e11991ccc94e"
      },
      "source": [
        "f1_score_gnb = f1_score(y_test, y_pred_gnb)\n",
        "print(f1_score_gnb)"
      ],
      "execution_count": null,
      "outputs": [
        {
          "output_type": "stream",
          "text": [
            "0.6321493076459963\n"
          ],
          "name": "stdout"
        }
      ]
    },
    {
      "cell_type": "markdown",
      "metadata": {
        "id": "tz4Dttzkq_dy"
      },
      "source": [
        "# ANN"
      ]
    },
    {
      "cell_type": "code",
      "metadata": {
        "id": "kjckXxcvb9fA"
      },
      "source": [
        "from keras import backend as K\n",
        "\n",
        "def recall_m(y_true, y_pred):\n",
        "  true_positives = K.sum(K.round(K.clip(y_true * y_pred, 0, 1)))\n",
        "  possible_positives = K.sum(K.round(K.clip(y_true, 0, 1)))\n",
        "  recall = true_positives / (possible_positives + K.epsilon())\n",
        "  return recall\n",
        "\n",
        "def precision_m(y_true, y_pred):\n",
        "  true_positives = K.sum(K.round(K.clip(y_true * y_pred, 0, 1)))\n",
        "  predicted_positives = K.sum(K.round(K.clip(y_pred, 0, 1)))\n",
        "  precision = true_positives / (predicted_positives + K.epsilon())\n",
        "  return precision\n",
        "\n",
        "def f1_m(y_true, y_pred):\n",
        "  precision = precision_m(y_true, y_pred)\n",
        "  recall = recall_m(y_true, y_pred)\n",
        "  return 2*((precision*recall)/(precision+recall+K.epsilon()))"
      ],
      "execution_count": null,
      "outputs": []
    },
    {
      "cell_type": "code",
      "metadata": {
        "id": "QWsZ6rk_cAHy"
      },
      "source": [
        "import tensorflow as tf\n",
        "\n",
        "ann = tf.keras.models.Sequential()\n",
        "ann.add(tf.keras.layers.Dense(units=1721, activation=\"relu\")) # Rectifier linear unit\n",
        "ann.add(tf.keras.layers.Dense(units=1721, activation=\"relu\"))\n",
        "ann.add(tf.keras.layers.Dense(units=1, activation=\"sigmoid\"))\n",
        "\n",
        "ann.compile(optimizer='adam', loss='binary_crossentropy', metrics=[f1_m])"
      ],
      "execution_count": null,
      "outputs": []
    },
    {
      "cell_type": "code",
      "metadata": {
        "id": "5cJOHsqBcAny",
        "colab": {
          "base_uri": "https://localhost:8080/",
          "height": 884
        },
        "outputId": "ef0b64e8-2448-416f-caff-c9b0595fb8fe"
      },
      "source": [
        "ann.fit(X_train, y_train, batch_size=32, epochs=25)"
      ],
      "execution_count": null,
      "outputs": [
        {
          "output_type": "stream",
          "text": [
            "Epoch 1/25\n",
            "191/191 [==============================] - 2s 11ms/step - loss: 0.4968 - f1_m: 0.6907\n",
            "Epoch 2/25\n",
            "191/191 [==============================] - 2s 11ms/step - loss: 0.1516 - f1_m: 0.9270\n",
            "Epoch 3/25\n",
            "191/191 [==============================] - 2s 11ms/step - loss: 0.0512 - f1_m: 0.9765\n",
            "Epoch 4/25\n",
            "191/191 [==============================] - 2s 11ms/step - loss: 0.0299 - f1_m: 0.9860\n",
            "Epoch 5/25\n",
            "191/191 [==============================] - 2s 11ms/step - loss: 0.0199 - f1_m: 0.9906\n",
            "Epoch 6/25\n",
            "191/191 [==============================] - 2s 11ms/step - loss: 0.0142 - f1_m: 0.9929\n",
            "Epoch 7/25\n",
            "191/191 [==============================] - 2s 11ms/step - loss: 0.0157 - f1_m: 0.9919\n",
            "Epoch 8/25\n",
            "191/191 [==============================] - 2s 11ms/step - loss: 0.0095 - f1_m: 0.9935\n",
            "Epoch 9/25\n",
            "191/191 [==============================] - 2s 11ms/step - loss: 0.0098 - f1_m: 0.9945\n",
            "Epoch 10/25\n",
            "191/191 [==============================] - 2s 11ms/step - loss: 0.0087 - f1_m: 0.9942\n",
            "Epoch 11/25\n",
            "191/191 [==============================] - 2s 11ms/step - loss: 0.0078 - f1_m: 0.9945\n",
            "Epoch 12/25\n",
            "191/191 [==============================] - 2s 11ms/step - loss: 0.0075 - f1_m: 0.9951\n",
            "Epoch 13/25\n",
            "191/191 [==============================] - 2s 11ms/step - loss: 0.0084 - f1_m: 0.9955\n",
            "Epoch 14/25\n",
            "191/191 [==============================] - 2s 11ms/step - loss: 0.0070 - f1_m: 0.9954\n",
            "Epoch 15/25\n",
            "191/191 [==============================] - 2s 11ms/step - loss: 0.0069 - f1_m: 0.9957\n",
            "Epoch 16/25\n",
            "191/191 [==============================] - 2s 11ms/step - loss: 0.0065 - f1_m: 0.9963\n",
            "Epoch 17/25\n",
            "191/191 [==============================] - 2s 11ms/step - loss: 0.0062 - f1_m: 0.9961\n",
            "Epoch 18/25\n",
            "191/191 [==============================] - 2s 11ms/step - loss: 0.0063 - f1_m: 0.9954\n",
            "Epoch 19/25\n",
            "191/191 [==============================] - 2s 11ms/step - loss: 0.0062 - f1_m: 0.9959\n",
            "Epoch 20/25\n",
            "191/191 [==============================] - 2s 11ms/step - loss: 0.0062 - f1_m: 0.9959\n",
            "Epoch 21/25\n",
            "191/191 [==============================] - 2s 11ms/step - loss: 0.0062 - f1_m: 0.9957\n",
            "Epoch 22/25\n",
            "191/191 [==============================] - 2s 11ms/step - loss: 0.0062 - f1_m: 0.9954\n",
            "Epoch 23/25\n",
            "191/191 [==============================] - 2s 11ms/step - loss: 0.0064 - f1_m: 0.9956\n",
            "Epoch 24/25\n",
            "191/191 [==============================] - 2s 11ms/step - loss: 0.0062 - f1_m: 0.9957\n",
            "Epoch 25/25\n",
            "191/191 [==============================] - 2s 11ms/step - loss: 0.0067 - f1_m: 0.9902\n"
          ],
          "name": "stdout"
        },
        {
          "output_type": "execute_result",
          "data": {
            "text/plain": [
              "<tensorflow.python.keras.callbacks.History at 0x7ff016f97e48>"
            ]
          },
          "metadata": {
            "tags": []
          },
          "execution_count": 10
        }
      ]
    },
    {
      "cell_type": "code",
      "metadata": {
        "id": "9QFb8Z5IcEje",
        "colab": {
          "base_uri": "https://localhost:8080/",
          "height": 51
        },
        "outputId": "ffe6d15f-674d-4322-a1c8-1ee017aa69be"
      },
      "source": [
        "y_pred = ann.predict(X_test)\n",
        "ann.evaluate(X_test, y_test, verbose=1)"
      ],
      "execution_count": null,
      "outputs": [
        {
          "output_type": "stream",
          "text": [
            "48/48 [==============================] - 0s 4ms/step - loss: 1.8526 - f1_m: 0.6957\n"
          ],
          "name": "stdout"
        },
        {
          "output_type": "execute_result",
          "data": {
            "text/plain": [
              "[1.8525800704956055, 0.6956595778465271]"
            ]
          },
          "metadata": {
            "tags": []
          },
          "execution_count": 11
        }
      ]
    },
    {
      "cell_type": "markdown",
      "metadata": {
        "id": "KaedWMDlcGe1"
      },
      "source": [
        "# The best result using this data was shown by SVC model, which is F1 = 0.758"
      ]
    }
  ]
}