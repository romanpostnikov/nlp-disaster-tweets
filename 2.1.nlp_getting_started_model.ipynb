{
  "nbformat": 4,
  "nbformat_minor": 0,
  "metadata": {
    "colab": {
      "name": "nlp-getting-started-model.ipynb",
      "provenance": [],
      "collapsed_sections": [],
      "toc_visible": true
    },
    "kernelspec": {
      "name": "python3",
      "display_name": "Python 3"
    },
    "accelerator": "GPU"
  },
  "cells": [
    {
      "cell_type": "code",
      "metadata": {
        "id": "G4fFTVC66aNF"
      },
      "source": [
        "import pandas as pd\n",
        "import numpy as np\n",
        "import matplotlib.pyplot as plt"
      ],
      "execution_count": null,
      "outputs": []
    },
    {
      "cell_type": "code",
      "metadata": {
        "id": "v03n674yMIpE",
        "colab": {
          "base_uri": "https://localhost:8080/",
          "height": 204
        },
        "outputId": "5364784d-704a-4b2d-d3d6-121a5b6e446c"
      },
      "source": [
        "dataset = pd.read_csv(\"train.csv\")\n",
        "dataset.head()"
      ],
      "execution_count": null,
      "outputs": [
        {
          "output_type": "execute_result",
          "data": {
            "text/html": [
              "<div>\n",
              "<style scoped>\n",
              "    .dataframe tbody tr th:only-of-type {\n",
              "        vertical-align: middle;\n",
              "    }\n",
              "\n",
              "    .dataframe tbody tr th {\n",
              "        vertical-align: top;\n",
              "    }\n",
              "\n",
              "    .dataframe thead th {\n",
              "        text-align: right;\n",
              "    }\n",
              "</style>\n",
              "<table border=\"1\" class=\"dataframe\">\n",
              "  <thead>\n",
              "    <tr style=\"text-align: right;\">\n",
              "      <th></th>\n",
              "      <th>id</th>\n",
              "      <th>keyword</th>\n",
              "      <th>location</th>\n",
              "      <th>text</th>\n",
              "      <th>target</th>\n",
              "    </tr>\n",
              "  </thead>\n",
              "  <tbody>\n",
              "    <tr>\n",
              "      <th>0</th>\n",
              "      <td>1</td>\n",
              "      <td>NaN</td>\n",
              "      <td>NaN</td>\n",
              "      <td>Our Deeds are the Reason of this #earthquake M...</td>\n",
              "      <td>1</td>\n",
              "    </tr>\n",
              "    <tr>\n",
              "      <th>1</th>\n",
              "      <td>4</td>\n",
              "      <td>NaN</td>\n",
              "      <td>NaN</td>\n",
              "      <td>Forest fire near La Ronge Sask. Canada</td>\n",
              "      <td>1</td>\n",
              "    </tr>\n",
              "    <tr>\n",
              "      <th>2</th>\n",
              "      <td>5</td>\n",
              "      <td>NaN</td>\n",
              "      <td>NaN</td>\n",
              "      <td>All residents asked to 'shelter in place' are ...</td>\n",
              "      <td>1</td>\n",
              "    </tr>\n",
              "    <tr>\n",
              "      <th>3</th>\n",
              "      <td>6</td>\n",
              "      <td>NaN</td>\n",
              "      <td>NaN</td>\n",
              "      <td>13,000 people receive #wildfires evacuation or...</td>\n",
              "      <td>1</td>\n",
              "    </tr>\n",
              "    <tr>\n",
              "      <th>4</th>\n",
              "      <td>7</td>\n",
              "      <td>NaN</td>\n",
              "      <td>NaN</td>\n",
              "      <td>Just got sent this photo from Ruby #Alaska as ...</td>\n",
              "      <td>1</td>\n",
              "    </tr>\n",
              "  </tbody>\n",
              "</table>\n",
              "</div>"
            ],
            "text/plain": [
              "   id keyword  ...                                               text target\n",
              "0   1     NaN  ...  Our Deeds are the Reason of this #earthquake M...      1\n",
              "1   4     NaN  ...             Forest fire near La Ronge Sask. Canada      1\n",
              "2   5     NaN  ...  All residents asked to 'shelter in place' are ...      1\n",
              "3   6     NaN  ...  13,000 people receive #wildfires evacuation or...      1\n",
              "4   7     NaN  ...  Just got sent this photo from Ruby #Alaska as ...      1\n",
              "\n",
              "[5 rows x 5 columns]"
            ]
          },
          "metadata": {
            "tags": []
          },
          "execution_count": 4
        }
      ]
    },
    {
      "cell_type": "markdown",
      "metadata": {
        "id": "HNpdxMxsMlFu"
      },
      "source": [
        "So I will try to compose a few combinations of data & models to find the best one and use it as a final one. Those combinations are:\n",
        "* Data with no changes (only tweet text used);\n",
        "  * Use this data to build mostly used sklearn ML models and one DL model:\n",
        "    * Logistic Regression;\n",
        "    * K-neighbors;\n",
        "    * SVC;\n",
        "    * Decision Tree;\n",
        "    * Ensemble;\n",
        "    * Naive Bayes;\n",
        "    * ANN;\n",
        "* Data with cleaned up text in tweets (removed symbols, stop-words and stemmed text);\n",
        "  * Use this data to build mostly used sklearn ML models and one DL model (same models as in previous chapter);\n",
        "* Data with cleaned up text in tweets and categorized \"location\" and \"keyword\" columns;\n",
        "  * Use this data to build mostly used sklearn ML models and one DL model (same models as in previous chapter);"
      ]
    },
    {
      "cell_type": "code",
      "metadata": {
        "id": "IM08cGunZP8G"
      },
      "source": [
        "from sklearn.feature_extraction.text import CountVectorizer\n",
        "cv = CountVectorizer()\n",
        "\n",
        "X = cv.fit_transform(dataset[\"text\"]).toarray()\n",
        "y = dataset[\"target\"].values"
      ],
      "execution_count": null,
      "outputs": []
    },
    {
      "cell_type": "code",
      "metadata": {
        "id": "j6xgThxkZtFP",
        "colab": {
          "base_uri": "https://localhost:8080/",
          "height": 34
        },
        "outputId": "ff09a436-e0a8-4894-beef-14ba4ca84886"
      },
      "source": [
        "len(X[0])"
      ],
      "execution_count": null,
      "outputs": [
        {
          "output_type": "execute_result",
          "data": {
            "text/plain": [
              "21637"
            ]
          },
          "metadata": {
            "tags": []
          },
          "execution_count": 6
        }
      ]
    },
    {
      "cell_type": "code",
      "metadata": {
        "id": "CmSWByvzZuiz"
      },
      "source": [
        "from sklearn.model_selection import train_test_split\n",
        "\n",
        "X_train, X_test, y_train, y_test = train_test_split(X, y, test_size=0.2, random_state=42)"
      ],
      "execution_count": null,
      "outputs": []
    },
    {
      "cell_type": "code",
      "metadata": {
        "id": "cBlEiZdDed54"
      },
      "source": [
        "f1_scores = {}"
      ],
      "execution_count": null,
      "outputs": []
    },
    {
      "cell_type": "markdown",
      "metadata": {
        "id": "Wg7UGfmmnF0B"
      },
      "source": [
        "# Logistic Regression"
      ]
    },
    {
      "cell_type": "code",
      "metadata": {
        "id": "n1d3Kgwgnw-A"
      },
      "source": [
        "# from sklearn.linear_model import LogisticRegression\n",
        "# from sklearn.model_selection import RandomizedSearchCV\n",
        "\n",
        "# lr_grid = {\"C\": np.logspace(-4, 4, 40),\n",
        "#                 \"penalty\": ['l1', 'l2'],\n",
        "#                 \"solver\": [\"liblinear\"]}\n",
        "\n",
        "# lr_search = RandomizedSearchCV(estimator=LogisticRegression(),\n",
        "#                           param_distributions=lr_grid,\n",
        "#                           cv=5,\n",
        "#                           scoring='f1',\n",
        "#                           verbose=True)\n",
        "\n",
        "# lr_search.fit(X_train, y_train)\n",
        "# lr_best_params = lr_search.best_params_"
      ],
      "execution_count": null,
      "outputs": []
    },
    {
      "cell_type": "code",
      "metadata": {
        "id": "JSJ7JkFWg7kn",
        "colab": {
          "base_uri": "https://localhost:8080/",
          "height": 101
        },
        "outputId": "550e94f9-bcb3-495f-edcc-02fda7498058"
      },
      "source": [
        "from sklearn.linear_model import LogisticRegression\n",
        "\n",
        "lr_model = LogisticRegression(penalty = 'l2',solver = 'liblinear', max_iter=1000)\n",
        "lr_model.fit(X_train, y_train)"
      ],
      "execution_count": null,
      "outputs": [
        {
          "output_type": "execute_result",
          "data": {
            "text/plain": [
              "LogisticRegression(C=1.0, class_weight=None, dual=False, fit_intercept=True,\n",
              "                   intercept_scaling=1, l1_ratio=None, max_iter=1000,\n",
              "                   multi_class='auto', n_jobs=None, penalty='l2',\n",
              "                   random_state=None, solver='liblinear', tol=0.0001, verbose=0,\n",
              "                   warm_start=False)"
            ]
          },
          "metadata": {
            "tags": []
          },
          "execution_count": 7
        }
      ]
    },
    {
      "cell_type": "code",
      "metadata": {
        "id": "8nEFSC373ait"
      },
      "source": [
        "y_pred_lr = lr_model.predict(X_test)"
      ],
      "execution_count": null,
      "outputs": []
    },
    {
      "cell_type": "code",
      "metadata": {
        "id": "EXEMHWiZmn6n",
        "colab": {
          "base_uri": "https://localhost:8080/",
          "height": 34
        },
        "outputId": "6758ec8b-e447-4010-b013-b5a2ad2b2e1e"
      },
      "source": [
        "from sklearn.metrics import f1_score\n",
        "\n",
        "f1_score_lr = f1_score(y_test, y_pred_lr)\n",
        "print(f1_score_lr)"
      ],
      "execution_count": null,
      "outputs": [
        {
          "output_type": "stream",
          "text": [
            "0.7649918962722853\n"
          ],
          "name": "stdout"
        }
      ]
    },
    {
      "cell_type": "code",
      "metadata": {
        "id": "aJxnYY0OeqqG"
      },
      "source": [
        "f1_scores[\"LogisticRegression\"] = f1_score_lr"
      ],
      "execution_count": null,
      "outputs": []
    },
    {
      "cell_type": "markdown",
      "metadata": {
        "id": "X-OELfRKnMNs"
      },
      "source": [
        "# K-neighbors"
      ]
    },
    {
      "cell_type": "code",
      "metadata": {
        "id": "k1axJQ3UpsLG"
      },
      "source": [
        "# from sklearn.neighbors import KNeighborsClassifier\n",
        "\n",
        "# knc_grid = {\"leaf_size\": list(range(1, 5)),\n",
        "#             \"n_neighbors\": list(range(1, 5)),\n",
        "#             \"p\": [2]}\n",
        "\n",
        "# knc_search = RandomizedSearchCV(estimator=KNeighborsClassifier(),\n",
        "#                           param_distributions=knc_grid,\n",
        "#                           cv=5,\n",
        "#                           scoring='f1',\n",
        "#                           verbose=True)\n",
        "\n",
        "# knc_search.fit(X_train, y_train)\n",
        "# knc_best_params = knc_search.best_params_"
      ],
      "execution_count": null,
      "outputs": []
    },
    {
      "cell_type": "code",
      "metadata": {
        "id": "oNbvDiqxn8MA",
        "colab": {
          "base_uri": "https://localhost:8080/",
          "height": 67
        },
        "outputId": "06792867-047f-4ecc-afcf-02264db19e0e"
      },
      "source": [
        "from sklearn.neighbors import KNeighborsClassifier\n",
        "\n",
        "knc_model = KNeighborsClassifier()\n",
        "knc_model.fit(X_train, y_train)"
      ],
      "execution_count": null,
      "outputs": [
        {
          "output_type": "execute_result",
          "data": {
            "text/plain": [
              "KNeighborsClassifier(algorithm='auto', leaf_size=30, metric='minkowski',\n",
              "                     metric_params=None, n_jobs=None, n_neighbors=5, p=2,\n",
              "                     weights='uniform')"
            ]
          },
          "metadata": {
            "tags": []
          },
          "execution_count": 11
        }
      ]
    },
    {
      "cell_type": "code",
      "metadata": {
        "id": "ELuH9582oKT2"
      },
      "source": [
        "y_pred_knc = knc_model.predict(X_test)"
      ],
      "execution_count": null,
      "outputs": []
    },
    {
      "cell_type": "code",
      "metadata": {
        "id": "BmEYW7XqoVxX",
        "colab": {
          "base_uri": "https://localhost:8080/",
          "height": 34
        },
        "outputId": "1cb587c4-c4a9-46bc-cb53-b1df5717868f"
      },
      "source": [
        "f1_score_knc = f1_score(y_test, y_pred_knc)\n",
        "print(f1_score_knc)"
      ],
      "execution_count": null,
      "outputs": [
        {
          "output_type": "stream",
          "text": [
            "0.506951871657754\n"
          ],
          "name": "stdout"
        }
      ]
    },
    {
      "cell_type": "code",
      "metadata": {
        "id": "NShIJIS9fKgD"
      },
      "source": [
        "f1_scores[\"KNeighborsClassifier\"] = f1_score_knc"
      ],
      "execution_count": null,
      "outputs": []
    },
    {
      "cell_type": "markdown",
      "metadata": {
        "id": "c5o3XGLoojqo"
      },
      "source": [
        "# SVC"
      ]
    },
    {
      "cell_type": "code",
      "metadata": {
        "id": "JzpmHb9Z4p95"
      },
      "source": [
        "# from sklearn.svm import SVC\n",
        "\n",
        "# svc_grid = {'C': [0.1,1, 10, 100], \n",
        "#             'gamma': [1,0.1,0.01,0.001],\n",
        "#             'kernel': ['rbf', 'poly', 'sigmoid']}\n",
        "\n",
        "# svc_search = RandomizedSearchCV(estimator=SVC(),\n",
        "#                           param_distributions=svc_grid,\n",
        "#                           cv=5,\n",
        "#                           scoring='f1',\n",
        "#                           verbose=True)\n",
        "\n",
        "# svc_search.fit(X_train, y_train)\n",
        "# svc_best_params = svc_search.best_params_"
      ],
      "execution_count": null,
      "outputs": []
    },
    {
      "cell_type": "code",
      "metadata": {
        "id": "cmBg5rq6pg6r",
        "colab": {
          "base_uri": "https://localhost:8080/",
          "height": 84
        },
        "outputId": "8660f40c-a057-42bd-854f-a7759c9808dd"
      },
      "source": [
        "from sklearn.svm import SVC\n",
        "\n",
        "svc_model = SVC()\n",
        "svc_model.fit(X_train, y_train)"
      ],
      "execution_count": null,
      "outputs": [
        {
          "output_type": "execute_result",
          "data": {
            "text/plain": [
              "SVC(C=1.0, break_ties=False, cache_size=200, class_weight=None, coef0=0.0,\n",
              "    decision_function_shape='ovr', degree=3, gamma='scale', kernel='rbf',\n",
              "    max_iter=-1, probability=False, random_state=None, shrinking=True,\n",
              "    tol=0.001, verbose=False)"
            ]
          },
          "metadata": {
            "tags": []
          },
          "execution_count": 15
        }
      ]
    },
    {
      "cell_type": "code",
      "metadata": {
        "id": "3iF5Aj_aqCzP"
      },
      "source": [
        "y_pred_svc = svc_model.predict(X_test)"
      ],
      "execution_count": null,
      "outputs": []
    },
    {
      "cell_type": "code",
      "metadata": {
        "id": "dcte1lW8qp7q",
        "colab": {
          "base_uri": "https://localhost:8080/",
          "height": 34
        },
        "outputId": "ea355ac2-2481-4b24-e11c-c5fe4fdb904c"
      },
      "source": [
        "f1_score_svc = f1_score(y_test, y_pred_svc)\n",
        "print(f1_score_svc)"
      ],
      "execution_count": null,
      "outputs": [
        {
          "output_type": "stream",
          "text": [
            "0.7493449781659389\n"
          ],
          "name": "stdout"
        }
      ]
    },
    {
      "cell_type": "code",
      "metadata": {
        "id": "dEsQXfFEfRVc"
      },
      "source": [
        "f1_scores[\"SVC\"] = f1_score_svc"
      ],
      "execution_count": null,
      "outputs": []
    },
    {
      "cell_type": "markdown",
      "metadata": {
        "id": "mF37NNkhq0Nf"
      },
      "source": [
        "# Decision Tree"
      ]
    },
    {
      "cell_type": "code",
      "metadata": {
        "id": "vor3nQKw6eEB"
      },
      "source": [
        "# from sklearn.tree import DecisionTreeClassifier\n",
        "\n",
        "# dtc_grid = {\"max_depth\": [3, None],\n",
        "#               \"max_features\": randint(1, 9),\n",
        "#               \"min_samples_leaf\": randint(1, 9),\n",
        "#               \"criterion\": [\"gini\", \"entropy\"]}\n",
        "\n",
        "# dtc_search = RandomizedSearchCV(estimator=DecisionTreeClassifier(),\n",
        "#                           param_distributions=dtc_grid,\n",
        "#                           cv=5,\n",
        "#                           scoring='f1',\n",
        "#                           verbose=True)\n",
        "\n",
        "# dtc_search.fit(X_train, y_train)\n",
        "# dtc_best_params = dtc_search.best_params_"
      ],
      "execution_count": null,
      "outputs": []
    },
    {
      "cell_type": "code",
      "metadata": {
        "id": "H8vPoUu5rMd3",
        "colab": {
          "base_uri": "https://localhost:8080/",
          "height": 118
        },
        "outputId": "cf23f03c-e58c-4602-8bbd-157c26c4ccb9"
      },
      "source": [
        "from sklearn.tree import DecisionTreeClassifier\n",
        "\n",
        "dtc_model = DecisionTreeClassifier()\n",
        "dtc_model.fit(X_train, y_train)"
      ],
      "execution_count": null,
      "outputs": [
        {
          "output_type": "execute_result",
          "data": {
            "text/plain": [
              "DecisionTreeClassifier(ccp_alpha=0.0, class_weight=None, criterion='gini',\n",
              "                       max_depth=None, max_features=None, max_leaf_nodes=None,\n",
              "                       min_impurity_decrease=0.0, min_impurity_split=None,\n",
              "                       min_samples_leaf=1, min_samples_split=2,\n",
              "                       min_weight_fraction_leaf=0.0, presort='deprecated',\n",
              "                       random_state=None, splitter='best')"
            ]
          },
          "metadata": {
            "tags": []
          },
          "execution_count": 19
        }
      ]
    },
    {
      "cell_type": "code",
      "metadata": {
        "id": "j8CVG3_YrMlB"
      },
      "source": [
        "y_pred_dtc = dtc_model.predict(X_test)"
      ],
      "execution_count": null,
      "outputs": []
    },
    {
      "cell_type": "code",
      "metadata": {
        "id": "cX301R9erMn7",
        "colab": {
          "base_uri": "https://localhost:8080/",
          "height": 34
        },
        "outputId": "4be76fc5-5e3c-4ecf-d299-ba03efabc299"
      },
      "source": [
        "f1_score_dtc = f1_score(y_test, y_pred_dtc)\n",
        "print(f1_score_dtc)"
      ],
      "execution_count": null,
      "outputs": [
        {
          "output_type": "stream",
          "text": [
            "0.6829652996845427\n"
          ],
          "name": "stdout"
        }
      ]
    },
    {
      "cell_type": "code",
      "metadata": {
        "id": "hrSMDsKefU4b"
      },
      "source": [
        "f1_scores[\"DecisionTreeClassifier\"] = f1_score_dtc"
      ],
      "execution_count": null,
      "outputs": []
    },
    {
      "cell_type": "markdown",
      "metadata": {
        "id": "8F7pouujq7gC"
      },
      "source": [
        "# Ensemble"
      ]
    },
    {
      "cell_type": "code",
      "metadata": {
        "id": "9uHeDWwX6990"
      },
      "source": [
        "# from sklearn.ensemble import RandomForestClassifier\n",
        "\n",
        "# rfc_grid = {\"n_estimators\": [10, 100, 200, 500, 1000, 1200],\n",
        "#             \"max_depth\": [5, 8, 15, 25, 30],\n",
        "#             \"max_features\": [\"auto\", \"sqrt\"],\n",
        "#             \"min_samples_split\": [2, 5, 10, 15, 100],\n",
        "#             \"min_samples_leaf\": [1, 2, 5, 10]}\n",
        "\n",
        "# rfc_search = RandomizedSearchCV(estimator=RandomForestClassifier(),\n",
        "#                           param_distributions=rfc_grid,\n",
        "#                           cv=5,\n",
        "#                           scoring='f1',\n",
        "#                           verbose=True)\n",
        "\n",
        "# rfc_search.fit(X_train, y_train)\n",
        "# rfc_best_params = rfc_search.best_params_"
      ],
      "execution_count": null,
      "outputs": []
    },
    {
      "cell_type": "code",
      "metadata": {
        "id": "Sp185W-trTkJ",
        "colab": {
          "base_uri": "https://localhost:8080/",
          "height": 151
        },
        "outputId": "27477f3f-cca3-48f8-a93a-8a03bfe5fffa"
      },
      "source": [
        "from sklearn.ensemble import RandomForestClassifier\n",
        "\n",
        "rfc_model = RandomForestClassifier()\n",
        "rfc_model.fit(X_train, y_train)"
      ],
      "execution_count": null,
      "outputs": [
        {
          "output_type": "execute_result",
          "data": {
            "text/plain": [
              "RandomForestClassifier(bootstrap=True, ccp_alpha=0.0, class_weight=None,\n",
              "                       criterion='gini', max_depth=None, max_features='auto',\n",
              "                       max_leaf_nodes=None, max_samples=None,\n",
              "                       min_impurity_decrease=0.0, min_impurity_split=None,\n",
              "                       min_samples_leaf=1, min_samples_split=2,\n",
              "                       min_weight_fraction_leaf=0.0, n_estimators=100,\n",
              "                       n_jobs=None, oob_score=False, random_state=None,\n",
              "                       verbose=0, warm_start=False)"
            ]
          },
          "metadata": {
            "tags": []
          },
          "execution_count": 23
        }
      ]
    },
    {
      "cell_type": "code",
      "metadata": {
        "id": "d968BMf9rTzu"
      },
      "source": [
        "y_pred_rfc = rfc_model.predict(X_test)"
      ],
      "execution_count": null,
      "outputs": []
    },
    {
      "cell_type": "code",
      "metadata": {
        "id": "sDuvKEBPrT2V",
        "colab": {
          "base_uri": "https://localhost:8080/",
          "height": 34
        },
        "outputId": "c1392eb2-dcd8-4c1f-8aaf-43b8c3cf2a19"
      },
      "source": [
        "f1_score_rfc = f1_score(y_test, y_pred_rfc)\n",
        "print(f1_score_rfc)"
      ],
      "execution_count": null,
      "outputs": [
        {
          "output_type": "stream",
          "text": [
            "0.7092069279854147\n"
          ],
          "name": "stdout"
        }
      ]
    },
    {
      "cell_type": "code",
      "metadata": {
        "id": "bZwkROIYfbH2"
      },
      "source": [
        "f1_scores[\"RandomForestClassifier\"] = f1_score_rfc"
      ],
      "execution_count": null,
      "outputs": []
    },
    {
      "cell_type": "markdown",
      "metadata": {
        "id": "8J0QQ10Qq9LI"
      },
      "source": [
        "# Naive Bayes"
      ]
    },
    {
      "cell_type": "code",
      "metadata": {
        "id": "8I-NpW1JrUsH",
        "colab": {
          "base_uri": "https://localhost:8080/",
          "height": 34
        },
        "outputId": "1aba8944-6433-48bd-d04b-35325d9b85b7"
      },
      "source": [
        "from sklearn.naive_bayes import GaussianNB\n",
        "\n",
        "gnb_model = GaussianNB()\n",
        "gnb_model.fit(X_train, y_train)"
      ],
      "execution_count": null,
      "outputs": [
        {
          "output_type": "execute_result",
          "data": {
            "text/plain": [
              "GaussianNB(priors=None, var_smoothing=1e-09)"
            ]
          },
          "metadata": {
            "tags": []
          },
          "execution_count": 26
        }
      ]
    },
    {
      "cell_type": "code",
      "metadata": {
        "id": "t9psy2hbrUzN"
      },
      "source": [
        "y_pred_gnb = gnb_model.predict(X_test)"
      ],
      "execution_count": null,
      "outputs": []
    },
    {
      "cell_type": "code",
      "metadata": {
        "id": "iQfsupJGrUxK",
        "colab": {
          "base_uri": "https://localhost:8080/",
          "height": 34
        },
        "outputId": "b45509d9-088c-47be-9b30-a4e5a2ce7253"
      },
      "source": [
        "f1_score_gnb = f1_score(y_test, y_pred_gnb)\n",
        "print(f1_score_gnb)"
      ],
      "execution_count": null,
      "outputs": [
        {
          "output_type": "stream",
          "text": [
            "0.6526315789473683\n"
          ],
          "name": "stdout"
        }
      ]
    },
    {
      "cell_type": "code",
      "metadata": {
        "id": "_zVQn3cbfiYY"
      },
      "source": [
        "f1_scores[\"GaussianNB\"] = f1_score_gnb"
      ],
      "execution_count": null,
      "outputs": []
    },
    {
      "cell_type": "code",
      "metadata": {
        "id": "UZci7itsfnUR",
        "colab": {
          "base_uri": "https://localhost:8080/",
          "height": 54
        },
        "outputId": "836d2872-3cfa-47cb-df7f-71f32a605cdf"
      },
      "source": [
        "print(f1_scores)"
      ],
      "execution_count": null,
      "outputs": [
        {
          "output_type": "stream",
          "text": [
            "{'LogisticRegression': 0.7649918962722853, 'KNeighborsClassifier': 0.506951871657754, 'SVC': 0.7493449781659389, 'DecisionTreeClassifier': 0.6829652996845427, 'RandomForestClassifier': 0.7092069279854147, 'GaussianNB': 0.6526315789473683}\n"
          ],
          "name": "stdout"
        }
      ]
    },
    {
      "cell_type": "markdown",
      "metadata": {
        "id": "tz4Dttzkq_dy"
      },
      "source": [
        "# ANN"
      ]
    },
    {
      "cell_type": "code",
      "metadata": {
        "id": "Cpl4MdmRR4jt"
      },
      "source": [
        "from keras import backend as K\n",
        "\n",
        "def recall_m(y_true, y_pred):\n",
        "  true_positives = K.sum(K.round(K.clip(y_true * y_pred, 0, 1)))\n",
        "  possible_positives = K.sum(K.round(K.clip(y_true, 0, 1)))\n",
        "  recall = true_positives / (possible_positives + K.epsilon())\n",
        "  return recall\n",
        "\n",
        "def precision_m(y_true, y_pred):\n",
        "  true_positives = K.sum(K.round(K.clip(y_true * y_pred, 0, 1)))\n",
        "  predicted_positives = K.sum(K.round(K.clip(y_pred, 0, 1)))\n",
        "  precision = true_positives / (predicted_positives + K.epsilon())\n",
        "  return precision\n",
        "\n",
        "def f1_m(y_true, y_pred):\n",
        "  precision = precision_m(y_true, y_pred)\n",
        "  recall = recall_m(y_true, y_pred)\n",
        "  return 2*((precision*recall)/(precision+recall+K.epsilon()))"
      ],
      "execution_count": null,
      "outputs": []
    },
    {
      "cell_type": "code",
      "metadata": {
        "id": "yTAQBkN6TpEB"
      },
      "source": [
        "import tensorflow as tf\n",
        "\n",
        "ann = tf.keras.models.Sequential()\n",
        "ann.add(tf.keras.layers.Dense(units=1721, activation=\"relu\")) # Rectifier linear unit\n",
        "ann.add(tf.keras.layers.Dense(units=1721, activation=\"relu\"))\n",
        "ann.add(tf.keras.layers.Dense(units=1, activation=\"sigmoid\"))\n",
        "\n",
        "ann.compile(optimizer='adam', loss='binary_crossentropy', metrics=[f1_m])"
      ],
      "execution_count": null,
      "outputs": []
    },
    {
      "cell_type": "code",
      "metadata": {
        "id": "xl9Xrxf4TrUH",
        "colab": {
          "base_uri": "https://localhost:8080/",
          "height": 884
        },
        "outputId": "6d802373-cc4a-4c2a-d3d2-ee5b6f8cefd4"
      },
      "source": [
        "ann.fit(X_train, y_train, batch_size=32, epochs=25)"
      ],
      "execution_count": null,
      "outputs": [
        {
          "output_type": "stream",
          "text": [
            "Epoch 1/25\n",
            "191/191 [==============================] - 2s 13ms/step - loss: 0.4933 - f1_m: 0.6965\n",
            "Epoch 2/25\n",
            "191/191 [==============================] - 2s 12ms/step - loss: 0.1551 - f1_m: 0.9299\n",
            "Epoch 3/25\n",
            "191/191 [==============================] - 2s 12ms/step - loss: 0.0552 - f1_m: 0.9746\n",
            "Epoch 4/25\n",
            "191/191 [==============================] - 2s 12ms/step - loss: 0.0322 - f1_m: 0.9831\n",
            "Epoch 5/25\n",
            "191/191 [==============================] - 2s 12ms/step - loss: 0.0237 - f1_m: 0.9867\n",
            "Epoch 6/25\n",
            "191/191 [==============================] - 2s 12ms/step - loss: 0.0230 - f1_m: 0.9871\n",
            "Epoch 7/25\n",
            "191/191 [==============================] - 2s 12ms/step - loss: 0.0181 - f1_m: 0.9888\n",
            "Epoch 8/25\n",
            "191/191 [==============================] - 2s 12ms/step - loss: 0.0140 - f1_m: 0.9919\n",
            "Epoch 9/25\n",
            "191/191 [==============================] - 2s 12ms/step - loss: 0.0147 - f1_m: 0.9908\n",
            "Epoch 10/25\n",
            "191/191 [==============================] - 2s 12ms/step - loss: 0.0105 - f1_m: 0.9923\n",
            "Epoch 11/25\n",
            "191/191 [==============================] - 2s 12ms/step - loss: 0.0123 - f1_m: 0.9928\n",
            "Epoch 12/25\n",
            "191/191 [==============================] - 2s 12ms/step - loss: 0.0108 - f1_m: 0.9939\n",
            "Epoch 13/25\n",
            "191/191 [==============================] - 2s 12ms/step - loss: 0.0080 - f1_m: 0.9948\n",
            "Epoch 14/25\n",
            "191/191 [==============================] - 2s 12ms/step - loss: 0.0091 - f1_m: 0.9948\n",
            "Epoch 15/25\n",
            "191/191 [==============================] - 2s 12ms/step - loss: 0.0072 - f1_m: 0.9947\n",
            "Epoch 16/25\n",
            "191/191 [==============================] - 2s 12ms/step - loss: 0.0063 - f1_m: 0.9957\n",
            "Epoch 17/25\n",
            "191/191 [==============================] - 2s 12ms/step - loss: 0.0062 - f1_m: 0.9956\n",
            "Epoch 18/25\n",
            "191/191 [==============================] - 2s 12ms/step - loss: 0.0057 - f1_m: 0.9955\n",
            "Epoch 19/25\n",
            "191/191 [==============================] - 2s 12ms/step - loss: 0.0059 - f1_m: 0.9951\n",
            "Epoch 20/25\n",
            "191/191 [==============================] - 2s 12ms/step - loss: 0.0055 - f1_m: 0.9960\n",
            "Epoch 21/25\n",
            "191/191 [==============================] - 2s 12ms/step - loss: 0.0056 - f1_m: 0.9956\n",
            "Epoch 22/25\n",
            "191/191 [==============================] - 2s 12ms/step - loss: 0.0052 - f1_m: 0.9964\n",
            "Epoch 23/25\n",
            "191/191 [==============================] - 2s 12ms/step - loss: 0.0052 - f1_m: 0.9959\n",
            "Epoch 24/25\n",
            "191/191 [==============================] - 2s 12ms/step - loss: 0.0053 - f1_m: 0.9962\n",
            "Epoch 25/25\n",
            "191/191 [==============================] - 2s 12ms/step - loss: 0.0051 - f1_m: 0.9960\n"
          ],
          "name": "stdout"
        },
        {
          "output_type": "execute_result",
          "data": {
            "text/plain": [
              "<tensorflow.python.keras.callbacks.History at 0x7f0ed0203be0>"
            ]
          },
          "metadata": {
            "tags": []
          },
          "execution_count": 10
        }
      ]
    },
    {
      "cell_type": "code",
      "metadata": {
        "id": "rHy20ILhTvJD",
        "colab": {
          "base_uri": "https://localhost:8080/",
          "height": 51
        },
        "outputId": "a1d67c8b-4a09-44f0-e7cd-90e9bf37c40e"
      },
      "source": [
        "y_pred = ann.predict(X_test)\n",
        "ann.evaluate(X_test, y_test, verbose=1)"
      ],
      "execution_count": null,
      "outputs": [
        {
          "output_type": "stream",
          "text": [
            "48/48 [==============================] - 0s 4ms/step - loss: 1.7228 - f1_m: 0.7119\n"
          ],
          "name": "stdout"
        },
        {
          "output_type": "execute_result",
          "data": {
            "text/plain": [
              "[1.7227723598480225, 0.7119362950325012]"
            ]
          },
          "metadata": {
            "tags": []
          },
          "execution_count": 11
        }
      ]
    },
    {
      "cell_type": "markdown",
      "metadata": {
        "id": "mg3WLv2lVyV0"
      },
      "source": [
        "# In this way of modeling the best model was LogisticRegression with result F1 = 0.765"
      ]
    },
    {
      "cell_type": "code",
      "metadata": {
        "id": "FZyDGxtWWFi8"
      },
      "source": [
        ""
      ],
      "execution_count": null,
      "outputs": []
    }
  ]
}