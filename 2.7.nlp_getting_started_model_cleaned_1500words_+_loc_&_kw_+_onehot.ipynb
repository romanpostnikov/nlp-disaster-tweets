{
  "nbformat": 4,
  "nbformat_minor": 0,
  "metadata": {
    "accelerator": "GPU",
    "colab": {
      "name": "nlp-getting-started-model-cleaned-1500words + loc & kw + onehot.ipynb",
      "provenance": [],
      "collapsed_sections": [],
      "toc_visible": true
    },
    "kernelspec": {
      "display_name": "Python 3",
      "name": "python3"
    }
  },
  "cells": [
    {
      "cell_type": "code",
      "metadata": {
        "id": "G4fFTVC66aNF"
      },
      "source": [
        "import pandas as pd\n",
        "import numpy as np\n",
        "import matplotlib.pyplot as plt"
      ],
      "execution_count": null,
      "outputs": []
    },
    {
      "cell_type": "code",
      "metadata": {
        "id": "v03n674yMIpE",
        "colab": {
          "base_uri": "https://localhost:8080/",
          "height": 204
        },
        "outputId": "fd96371b-48bb-48d1-db44-f315d0c51e7d"
      },
      "source": [
        "dataset = pd.read_csv(\"train.csv\")\n",
        "dataset.head()"
      ],
      "execution_count": null,
      "outputs": [
        {
          "output_type": "execute_result",
          "data": {
            "text/html": [
              "<div>\n",
              "<style scoped>\n",
              "    .dataframe tbody tr th:only-of-type {\n",
              "        vertical-align: middle;\n",
              "    }\n",
              "\n",
              "    .dataframe tbody tr th {\n",
              "        vertical-align: top;\n",
              "    }\n",
              "\n",
              "    .dataframe thead th {\n",
              "        text-align: right;\n",
              "    }\n",
              "</style>\n",
              "<table border=\"1\" class=\"dataframe\">\n",
              "  <thead>\n",
              "    <tr style=\"text-align: right;\">\n",
              "      <th></th>\n",
              "      <th>id</th>\n",
              "      <th>keyword</th>\n",
              "      <th>location</th>\n",
              "      <th>text</th>\n",
              "      <th>target</th>\n",
              "    </tr>\n",
              "  </thead>\n",
              "  <tbody>\n",
              "    <tr>\n",
              "      <th>0</th>\n",
              "      <td>1</td>\n",
              "      <td>NaN</td>\n",
              "      <td>NaN</td>\n",
              "      <td>Our Deeds are the Reason of this #earthquake M...</td>\n",
              "      <td>1</td>\n",
              "    </tr>\n",
              "    <tr>\n",
              "      <th>1</th>\n",
              "      <td>4</td>\n",
              "      <td>NaN</td>\n",
              "      <td>NaN</td>\n",
              "      <td>Forest fire near La Ronge Sask. Canada</td>\n",
              "      <td>1</td>\n",
              "    </tr>\n",
              "    <tr>\n",
              "      <th>2</th>\n",
              "      <td>5</td>\n",
              "      <td>NaN</td>\n",
              "      <td>NaN</td>\n",
              "      <td>All residents asked to 'shelter in place' are ...</td>\n",
              "      <td>1</td>\n",
              "    </tr>\n",
              "    <tr>\n",
              "      <th>3</th>\n",
              "      <td>6</td>\n",
              "      <td>NaN</td>\n",
              "      <td>NaN</td>\n",
              "      <td>13,000 people receive #wildfires evacuation or...</td>\n",
              "      <td>1</td>\n",
              "    </tr>\n",
              "    <tr>\n",
              "      <th>4</th>\n",
              "      <td>7</td>\n",
              "      <td>NaN</td>\n",
              "      <td>NaN</td>\n",
              "      <td>Just got sent this photo from Ruby #Alaska as ...</td>\n",
              "      <td>1</td>\n",
              "    </tr>\n",
              "  </tbody>\n",
              "</table>\n",
              "</div>"
            ],
            "text/plain": [
              "   id keyword  ...                                               text target\n",
              "0   1     NaN  ...  Our Deeds are the Reason of this #earthquake M...      1\n",
              "1   4     NaN  ...             Forest fire near La Ronge Sask. Canada      1\n",
              "2   5     NaN  ...  All residents asked to 'shelter in place' are ...      1\n",
              "3   6     NaN  ...  13,000 people receive #wildfires evacuation or...      1\n",
              "4   7     NaN  ...  Just got sent this photo from Ruby #Alaska as ...      1\n",
              "\n",
              "[5 rows x 5 columns]"
            ]
          },
          "metadata": {
            "tags": []
          },
          "execution_count": 2
        }
      ]
    },
    {
      "cell_type": "code",
      "metadata": {
        "id": "HnYf34ioB7ah",
        "colab": {
          "base_uri": "https://localhost:8080/",
          "height": 221
        },
        "outputId": "4715674d-22f4-4deb-fd58-e2ffd2a3b462"
      },
      "source": [
        "dataset.location.value_counts()"
      ],
      "execution_count": null,
      "outputs": [
        {
          "output_type": "execute_result",
          "data": {
            "text/plain": [
              "USA                 104\n",
              "New York             71\n",
              "United States        50\n",
              "London               45\n",
              "Canada               29\n",
              "                   ... \n",
              "N?? Y???.             1\n",
              "Wasington, DC         1\n",
              "Texas af              1\n",
              "Fort Collins, CO      1\n",
              "RhodeIsland           1\n",
              "Name: location, Length: 3341, dtype: int64"
            ]
          },
          "metadata": {
            "tags": []
          },
          "execution_count": 3
        }
      ]
    },
    {
      "cell_type": "code",
      "metadata": {
        "id": "enB9eP0HPj11",
        "colab": {
          "base_uri": "https://localhost:8080/",
          "height": 119
        },
        "outputId": "98d15dc7-2cdb-4f36-9105-f3b9a0cbbfbf"
      },
      "source": [
        "dataset.dtypes"
      ],
      "execution_count": null,
      "outputs": [
        {
          "output_type": "execute_result",
          "data": {
            "text/plain": [
              "id           int64\n",
              "keyword     object\n",
              "location    object\n",
              "text        object\n",
              "target       int64\n",
              "dtype: object"
            ]
          },
          "metadata": {
            "tags": []
          },
          "execution_count": 4
        }
      ]
    },
    {
      "cell_type": "code",
      "metadata": {
        "id": "6DDw23XPprag"
      },
      "source": [
        "dataset.dropna(subset=['keyword'], inplace=True)"
      ],
      "execution_count": null,
      "outputs": []
    },
    {
      "cell_type": "code",
      "metadata": {
        "id": "xR_LnAVL8VlN"
      },
      "source": [
        "dataset.reset_index(inplace=True)"
      ],
      "execution_count": null,
      "outputs": []
    },
    {
      "cell_type": "code",
      "metadata": {
        "id": "sXq0vQGvqESg",
        "colab": {
          "base_uri": "https://localhost:8080/",
          "height": 238
        },
        "outputId": "efd9d176-f7d9-4093-bbdd-e14fece561e2"
      },
      "source": [
        "dataset.info()"
      ],
      "execution_count": null,
      "outputs": [
        {
          "output_type": "stream",
          "text": [
            "<class 'pandas.core.frame.DataFrame'>\n",
            "RangeIndex: 7552 entries, 0 to 7551\n",
            "Data columns (total 6 columns):\n",
            " #   Column    Non-Null Count  Dtype \n",
            "---  ------    --------------  ----- \n",
            " 0   index     7552 non-null   int64 \n",
            " 1   id        7552 non-null   int64 \n",
            " 2   keyword   7552 non-null   object\n",
            " 3   location  5080 non-null   object\n",
            " 4   text      7552 non-null   object\n",
            " 5   target    7552 non-null   int64 \n",
            "dtypes: int64(3), object(3)\n",
            "memory usage: 354.1+ KB\n"
          ],
          "name": "stdout"
        }
      ]
    },
    {
      "cell_type": "code",
      "metadata": {
        "id": "ymixAWPz4DTe"
      },
      "source": [
        "keywords = dataset['keyword']"
      ],
      "execution_count": null,
      "outputs": []
    },
    {
      "cell_type": "code",
      "metadata": {
        "id": "U-In7KLX4SrB"
      },
      "source": [
        "keywords = np.array(keywords)\n",
        "keywords = keywords.reshape(-1, 1)"
      ],
      "execution_count": null,
      "outputs": []
    },
    {
      "cell_type": "code",
      "metadata": {
        "id": "BNp5m2eqlMZ6",
        "colab": {
          "base_uri": "https://localhost:8080/",
          "height": 51
        },
        "outputId": "b83bab41-a8f4-4cb8-9751-38b5d7250325"
      },
      "source": [
        "from sklearn.preprocessing import OneHotEncoder\n",
        "\n",
        "enc = OneHotEncoder()\n",
        "enc.fit(keywords)"
      ],
      "execution_count": null,
      "outputs": [
        {
          "output_type": "execute_result",
          "data": {
            "text/plain": [
              "OneHotEncoder(categories='auto', drop=None, dtype=<class 'numpy.float64'>,\n",
              "              handle_unknown='error', sparse=True)"
            ]
          },
          "metadata": {
            "tags": []
          },
          "execution_count": 10
        }
      ]
    },
    {
      "cell_type": "code",
      "metadata": {
        "id": "LUhwLpTA4iSB",
        "colab": {
          "base_uri": "https://localhost:8080/",
          "height": 799
        },
        "outputId": "c9a9ef30-1e99-49c9-9f5a-427fc407789f"
      },
      "source": [
        "enc.categories_"
      ],
      "execution_count": null,
      "outputs": [
        {
          "output_type": "execute_result",
          "data": {
            "text/plain": [
              "[array(['ablaze', 'accident', 'aftershock', 'airplane%20accident',\n",
              "        'ambulance', 'annihilated', 'annihilation', 'apocalypse',\n",
              "        'armageddon', 'army', 'arson', 'arsonist', 'attack', 'attacked',\n",
              "        'avalanche', 'battle', 'bioterror', 'bioterrorism', 'blaze',\n",
              "        'blazing', 'bleeding', 'blew%20up', 'blight', 'blizzard', 'blood',\n",
              "        'bloody', 'blown%20up', 'body%20bag', 'body%20bagging',\n",
              "        'body%20bags', 'bomb', 'bombed', 'bombing', 'bridge%20collapse',\n",
              "        'buildings%20burning', 'buildings%20on%20fire', 'burned',\n",
              "        'burning', 'burning%20buildings', 'bush%20fires', 'casualties',\n",
              "        'casualty', 'catastrophe', 'catastrophic', 'chemical%20emergency',\n",
              "        'cliff%20fall', 'collapse', 'collapsed', 'collide', 'collided',\n",
              "        'collision', 'crash', 'crashed', 'crush', 'crushed', 'curfew',\n",
              "        'cyclone', 'damage', 'danger', 'dead', 'death', 'deaths', 'debris',\n",
              "        'deluge', 'deluged', 'demolish', 'demolished', 'demolition',\n",
              "        'derail', 'derailed', 'derailment', 'desolate', 'desolation',\n",
              "        'destroy', 'destroyed', 'destruction', 'detonate', 'detonation',\n",
              "        'devastated', 'devastation', 'disaster', 'displaced', 'drought',\n",
              "        'drown', 'drowned', 'drowning', 'dust%20storm', 'earthquake',\n",
              "        'electrocute', 'electrocuted', 'emergency', 'emergency%20plan',\n",
              "        'emergency%20services', 'engulfed', 'epicentre', 'evacuate',\n",
              "        'evacuated', 'evacuation', 'explode', 'exploded', 'explosion',\n",
              "        'eyewitness', 'famine', 'fatal', 'fatalities', 'fatality', 'fear',\n",
              "        'fire', 'fire%20truck', 'first%20responders', 'flames',\n",
              "        'flattened', 'flood', 'flooding', 'floods', 'forest%20fire',\n",
              "        'forest%20fires', 'hail', 'hailstorm', 'harm', 'hazard',\n",
              "        'hazardous', 'heat%20wave', 'hellfire', 'hijack', 'hijacker',\n",
              "        'hijacking', 'hostage', 'hostages', 'hurricane', 'injured',\n",
              "        'injuries', 'injury', 'inundated', 'inundation', 'landslide',\n",
              "        'lava', 'lightning', 'loud%20bang', 'mass%20murder',\n",
              "        'mass%20murderer', 'massacre', 'mayhem', 'meltdown', 'military',\n",
              "        'mudslide', 'natural%20disaster', 'nuclear%20disaster',\n",
              "        'nuclear%20reactor', 'obliterate', 'obliterated', 'obliteration',\n",
              "        'oil%20spill', 'outbreak', 'pandemonium', 'panic', 'panicking',\n",
              "        'police', 'quarantine', 'quarantined', 'radiation%20emergency',\n",
              "        'rainstorm', 'razed', 'refugees', 'rescue', 'rescued', 'rescuers',\n",
              "        'riot', 'rioting', 'rubble', 'ruin', 'sandstorm', 'screamed',\n",
              "        'screaming', 'screams', 'seismic', 'sinkhole', 'sinking', 'siren',\n",
              "        'sirens', 'smoke', 'snowstorm', 'storm', 'stretcher',\n",
              "        'structural%20failure', 'suicide%20bomb', 'suicide%20bomber',\n",
              "        'suicide%20bombing', 'sunk', 'survive', 'survived', 'survivors',\n",
              "        'terrorism', 'terrorist', 'threat', 'thunder', 'thunderstorm',\n",
              "        'tornado', 'tragedy', 'trapped', 'trauma', 'traumatised',\n",
              "        'trouble', 'tsunami', 'twister', 'typhoon', 'upheaval',\n",
              "        'violent%20storm', 'volcano', 'war%20zone', 'weapon', 'weapons',\n",
              "        'whirlwind', 'wild%20fires', 'wildfire', 'windstorm', 'wounded',\n",
              "        'wounds', 'wreck', 'wreckage', 'wrecked'], dtype=object)]"
            ]
          },
          "metadata": {
            "tags": []
          },
          "execution_count": 11
        }
      ]
    },
    {
      "cell_type": "code",
      "metadata": {
        "id": "StuexvYu4s6d"
      },
      "source": [
        "keywords = (enc.transform(keywords)).toarray()"
      ],
      "execution_count": null,
      "outputs": []
    },
    {
      "cell_type": "code",
      "metadata": {
        "id": "339mtfWt44kc",
        "colab": {
          "base_uri": "https://localhost:8080/",
          "height": 136
        },
        "outputId": "3ff5f751-cd05-46c3-e0d4-3403c2f1d286"
      },
      "source": [
        "keywords"
      ],
      "execution_count": null,
      "outputs": [
        {
          "output_type": "execute_result",
          "data": {
            "text/plain": [
              "array([[1., 0., 0., ..., 0., 0., 0.],\n",
              "       [1., 0., 0., ..., 0., 0., 0.],\n",
              "       [1., 0., 0., ..., 0., 0., 0.],\n",
              "       ...,\n",
              "       [0., 0., 0., ..., 0., 0., 1.],\n",
              "       [0., 0., 0., ..., 0., 0., 1.],\n",
              "       [0., 0., 0., ..., 0., 0., 1.]])"
            ]
          },
          "metadata": {
            "tags": []
          },
          "execution_count": 13
        }
      ]
    },
    {
      "cell_type": "code",
      "metadata": {
        "id": "jTTMvgxO7XJD",
        "colab": {
          "base_uri": "https://localhost:8080/",
          "height": 204
        },
        "outputId": "ce3a7b4b-8cc6-494d-c179-16cef267c0a0"
      },
      "source": [
        "dataset.head()"
      ],
      "execution_count": null,
      "outputs": [
        {
          "output_type": "execute_result",
          "data": {
            "text/html": [
              "<div>\n",
              "<style scoped>\n",
              "    .dataframe tbody tr th:only-of-type {\n",
              "        vertical-align: middle;\n",
              "    }\n",
              "\n",
              "    .dataframe tbody tr th {\n",
              "        vertical-align: top;\n",
              "    }\n",
              "\n",
              "    .dataframe thead th {\n",
              "        text-align: right;\n",
              "    }\n",
              "</style>\n",
              "<table border=\"1\" class=\"dataframe\">\n",
              "  <thead>\n",
              "    <tr style=\"text-align: right;\">\n",
              "      <th></th>\n",
              "      <th>index</th>\n",
              "      <th>id</th>\n",
              "      <th>keyword</th>\n",
              "      <th>location</th>\n",
              "      <th>text</th>\n",
              "      <th>target</th>\n",
              "    </tr>\n",
              "  </thead>\n",
              "  <tbody>\n",
              "    <tr>\n",
              "      <th>0</th>\n",
              "      <td>31</td>\n",
              "      <td>48</td>\n",
              "      <td>ablaze</td>\n",
              "      <td>Birmingham</td>\n",
              "      <td>@bbcmtd Wholesale Markets ablaze http://t.co/l...</td>\n",
              "      <td>1</td>\n",
              "    </tr>\n",
              "    <tr>\n",
              "      <th>1</th>\n",
              "      <td>32</td>\n",
              "      <td>49</td>\n",
              "      <td>ablaze</td>\n",
              "      <td>Est. September 2012 - Bristol</td>\n",
              "      <td>We always try to bring the heavy. #metal #RT h...</td>\n",
              "      <td>0</td>\n",
              "    </tr>\n",
              "    <tr>\n",
              "      <th>2</th>\n",
              "      <td>33</td>\n",
              "      <td>50</td>\n",
              "      <td>ablaze</td>\n",
              "      <td>AFRICA</td>\n",
              "      <td>#AFRICANBAZE: Breaking news:Nigeria flag set a...</td>\n",
              "      <td>1</td>\n",
              "    </tr>\n",
              "    <tr>\n",
              "      <th>3</th>\n",
              "      <td>34</td>\n",
              "      <td>52</td>\n",
              "      <td>ablaze</td>\n",
              "      <td>Philadelphia, PA</td>\n",
              "      <td>Crying out for more! Set me ablaze</td>\n",
              "      <td>0</td>\n",
              "    </tr>\n",
              "    <tr>\n",
              "      <th>4</th>\n",
              "      <td>35</td>\n",
              "      <td>53</td>\n",
              "      <td>ablaze</td>\n",
              "      <td>London, UK</td>\n",
              "      <td>On plus side LOOK AT THE SKY LAST NIGHT IT WAS...</td>\n",
              "      <td>0</td>\n",
              "    </tr>\n",
              "  </tbody>\n",
              "</table>\n",
              "</div>"
            ],
            "text/plain": [
              "   index  id  ...                                               text target\n",
              "0     31  48  ...  @bbcmtd Wholesale Markets ablaze http://t.co/l...      1\n",
              "1     32  49  ...  We always try to bring the heavy. #metal #RT h...      0\n",
              "2     33  50  ...  #AFRICANBAZE: Breaking news:Nigeria flag set a...      1\n",
              "3     34  52  ...                 Crying out for more! Set me ablaze      0\n",
              "4     35  53  ...  On plus side LOOK AT THE SKY LAST NIGHT IT WAS...      0\n",
              "\n",
              "[5 rows x 6 columns]"
            ]
          },
          "metadata": {
            "tags": []
          },
          "execution_count": 14
        }
      ]
    },
    {
      "cell_type": "code",
      "metadata": {
        "id": "0tgOACXsbBTE",
        "colab": {
          "base_uri": "https://localhost:8080/",
          "height": 51
        },
        "outputId": "a545699b-ca27-4e5d-8b2c-ac35402d9902"
      },
      "source": [
        "import re\n",
        "import nltk\n",
        "nltk.download(\"stopwords\") # downloads stopwords\n",
        "from nltk.corpus import stopwords # imports them afterwards\n",
        "from nltk.stem.porter import PorterStemmer # applies stemming, takes only roots of the words\n",
        "corpus = [] # it will contain all our different tweets, but all clean\n",
        "ps = PorterStemmer()\n",
        "all_stopwords = stopwords.words('english')[:143]\n",
        "all_stopwords.remove('not')\n",
        "all_stopwords.remove(\"don\")\n",
        "all_stopwords.remove(\"don't\")\n",
        "for i in range(0, len(dataset)):\n",
        "  tweet = re.sub('[^a-zA-Z]', ' ', str(dataset['text'][i]) + str(dataset['location'][i]))\n",
        "  tweet = tweet.lower()\n",
        "  tweet = tweet.split()\n",
        "  tweet = [ps.stem(word) for word in tweet if not word in set(all_stopwords)]\n",
        "  tweet = ' '.join(tweet)\n",
        "  corpus.append(tweet)"
      ],
      "execution_count": null,
      "outputs": [
        {
          "output_type": "stream",
          "text": [
            "[nltk_data] Downloading package stopwords to /root/nltk_data...\n",
            "[nltk_data]   Package stopwords is already up-to-date!\n"
          ],
          "name": "stdout"
        }
      ]
    },
    {
      "cell_type": "code",
      "metadata": {
        "id": "IM08cGunZP8G"
      },
      "source": [
        "from sklearn.feature_extraction.text import CountVectorizer\n",
        "cv = CountVectorizer(max_features=1500)\n",
        "\n",
        "X = cv.fit_transform(corpus).toarray()\n",
        "y = dataset[\"target\"].values"
      ],
      "execution_count": null,
      "outputs": []
    },
    {
      "cell_type": "code",
      "metadata": {
        "id": "j6xgThxkZtFP"
      },
      "source": [
        "X = np.concatenate((keywords, X), axis=1)"
      ],
      "execution_count": null,
      "outputs": []
    },
    {
      "cell_type": "code",
      "metadata": {
        "id": "89uxyYHxb0_8",
        "colab": {
          "base_uri": "https://localhost:8080/",
          "height": 136
        },
        "outputId": "4de9844f-f3a6-4918-a001-b05ce3dbcd5d"
      },
      "source": [
        "X[:20]"
      ],
      "execution_count": null,
      "outputs": [
        {
          "output_type": "execute_result",
          "data": {
            "text/plain": [
              "array([[1., 0., 0., ..., 0., 0., 0.],\n",
              "       [1., 0., 0., ..., 0., 0., 0.],\n",
              "       [1., 0., 0., ..., 0., 0., 0.],\n",
              "       ...,\n",
              "       [1., 0., 0., ..., 0., 0., 0.],\n",
              "       [1., 0., 0., ..., 0., 0., 0.],\n",
              "       [1., 0., 0., ..., 0., 0., 0.]])"
            ]
          },
          "metadata": {
            "tags": []
          },
          "execution_count": 18
        }
      ]
    },
    {
      "cell_type": "code",
      "metadata": {
        "id": "CmSWByvzZuiz"
      },
      "source": [
        "from sklearn.model_selection import train_test_split\n",
        "\n",
        "X_train, X_test, y_train, y_test = train_test_split(X, y, test_size=0.2, random_state=42)"
      ],
      "execution_count": null,
      "outputs": []
    },
    {
      "cell_type": "code",
      "metadata": {
        "id": "P9uN7C9H8qcl"
      },
      "source": [
        "f1_scores = {}"
      ],
      "execution_count": null,
      "outputs": []
    },
    {
      "cell_type": "markdown",
      "metadata": {
        "id": "Wg7UGfmmnF0B"
      },
      "source": [
        "# Logistic Regression"
      ]
    },
    {
      "cell_type": "code",
      "metadata": {
        "id": "n1d3Kgwgnw-A"
      },
      "source": [
        "# from sklearn.linear_model import LogisticRegression\n",
        "# from sklearn.model_selection import RandomizedSearchCV\n",
        "\n",
        "# lr_grid = {\"C\": np.logspace(-4, 4, 40),\n",
        "#                 \"penalty\": ['l1', 'l2'],\n",
        "#                 \"solver\": [\"liblinear\"]}\n",
        "\n",
        "# lr_search = RandomizedSearchCV(estimator=LogisticRegression(),\n",
        "#                           param_distributions=lr_grid,\n",
        "#                           cv=5,\n",
        "#                           scoring='f1',\n",
        "#                           verbose=True)\n",
        "\n",
        "# lr_search.fit(X_train, y_train)\n",
        "# lr_best_params = lr_search.best_params_"
      ],
      "execution_count": null,
      "outputs": []
    },
    {
      "cell_type": "code",
      "metadata": {
        "id": "JSJ7JkFWg7kn",
        "colab": {
          "base_uri": "https://localhost:8080/",
          "height": 102
        },
        "outputId": "66a6ac47-35d6-4e0c-882b-c8aeccf131cd"
      },
      "source": [
        "from sklearn.linear_model import LogisticRegression\n",
        "\n",
        "lr_model = LogisticRegression(penalty = 'l2',solver = 'liblinear', max_iter=1000)\n",
        "lr_model.fit(X_train, y_train)"
      ],
      "execution_count": null,
      "outputs": [
        {
          "output_type": "execute_result",
          "data": {
            "text/plain": [
              "LogisticRegression(C=1.0, class_weight=None, dual=False, fit_intercept=True,\n",
              "                   intercept_scaling=1, l1_ratio=None, max_iter=1000,\n",
              "                   multi_class='auto', n_jobs=None, penalty='l2',\n",
              "                   random_state=None, solver='liblinear', tol=0.0001, verbose=0,\n",
              "                   warm_start=False)"
            ]
          },
          "metadata": {
            "tags": []
          },
          "execution_count": 22
        }
      ]
    },
    {
      "cell_type": "code",
      "metadata": {
        "id": "8nEFSC373ait"
      },
      "source": [
        "y_pred_lr = lr_model.predict(X_test)"
      ],
      "execution_count": null,
      "outputs": []
    },
    {
      "cell_type": "code",
      "metadata": {
        "id": "EXEMHWiZmn6n",
        "colab": {
          "base_uri": "https://localhost:8080/",
          "height": 34
        },
        "outputId": "ec7829b1-7be8-49ed-e703-4ea4b4c3e05c"
      },
      "source": [
        "from sklearn.metrics import f1_score\n",
        "\n",
        "f1_score_lr = f1_score(y_test, y_pred_lr)\n",
        "print(f1_score_lr)"
      ],
      "execution_count": null,
      "outputs": [
        {
          "output_type": "stream",
          "text": [
            "0.7360655737704918\n"
          ],
          "name": "stdout"
        }
      ]
    },
    {
      "cell_type": "code",
      "metadata": {
        "id": "lawCsl228d5s"
      },
      "source": [
        "f1_scores[\"LogisticRegression\"] = f1_score_lr"
      ],
      "execution_count": null,
      "outputs": []
    },
    {
      "cell_type": "markdown",
      "metadata": {
        "id": "X-OELfRKnMNs"
      },
      "source": [
        "# K-neighbors"
      ]
    },
    {
      "cell_type": "code",
      "metadata": {
        "id": "k1axJQ3UpsLG"
      },
      "source": [
        "# from sklearn.neighbors import KNeighborsClassifier\n",
        "\n",
        "# knc_grid = {\"leaf_size\": list(range(1, 5)),\n",
        "#             \"n_neighbors\": list(range(1, 5)),\n",
        "#             \"p\": [2]}\n",
        "\n",
        "# knc_search = RandomizedSearchCV(estimator=KNeighborsClassifier(),\n",
        "#                           param_distributions=knc_grid,\n",
        "#                           cv=5,\n",
        "#                           scoring='f1',\n",
        "#                           verbose=True)\n",
        "\n",
        "# knc_search.fit(X_train, y_train)\n",
        "# knc_best_params = knc_search.best_params_"
      ],
      "execution_count": null,
      "outputs": []
    },
    {
      "cell_type": "code",
      "metadata": {
        "id": "oNbvDiqxn8MA",
        "colab": {
          "base_uri": "https://localhost:8080/",
          "height": 68
        },
        "outputId": "6d7ca952-fa19-4b33-eb66-9a9d44129cc6"
      },
      "source": [
        "from sklearn.neighbors import KNeighborsClassifier\n",
        "\n",
        "knc_model = KNeighborsClassifier()\n",
        "knc_model.fit(X_train, y_train)"
      ],
      "execution_count": null,
      "outputs": [
        {
          "output_type": "execute_result",
          "data": {
            "text/plain": [
              "KNeighborsClassifier(algorithm='auto', leaf_size=30, metric='minkowski',\n",
              "                     metric_params=None, n_jobs=None, n_neighbors=5, p=2,\n",
              "                     weights='uniform')"
            ]
          },
          "metadata": {
            "tags": []
          },
          "execution_count": 27
        }
      ]
    },
    {
      "cell_type": "code",
      "metadata": {
        "id": "ELuH9582oKT2"
      },
      "source": [
        "y_pred_knc = knc_model.predict(X_test)"
      ],
      "execution_count": null,
      "outputs": []
    },
    {
      "cell_type": "code",
      "metadata": {
        "id": "BmEYW7XqoVxX",
        "colab": {
          "base_uri": "https://localhost:8080/",
          "height": 34
        },
        "outputId": "1e058188-2bed-40d3-bccb-d5c0ccec75ce"
      },
      "source": [
        "f1_score_knc = f1_score(y_test, y_pred_knc)\n",
        "print(f1_score_knc)"
      ],
      "execution_count": null,
      "outputs": [
        {
          "output_type": "stream",
          "text": [
            "0.5952626158599381\n"
          ],
          "name": "stdout"
        }
      ]
    },
    {
      "cell_type": "code",
      "metadata": {
        "id": "_iW0hVgN8hoy"
      },
      "source": [
        "f1_scores[\"KNeighborsClassifier\"] = f1_score_knc"
      ],
      "execution_count": null,
      "outputs": []
    },
    {
      "cell_type": "markdown",
      "metadata": {
        "id": "c5o3XGLoojqo"
      },
      "source": [
        "# SVC"
      ]
    },
    {
      "cell_type": "code",
      "metadata": {
        "id": "JzpmHb9Z4p95"
      },
      "source": [
        "# from sklearn.svm import SVC\n",
        "\n",
        "# svc_grid = {'C': [0.1,1, 10, 100], \n",
        "#             'gamma': [1,0.1,0.01,0.001],\n",
        "#             'kernel': ['rbf', 'poly', 'sigmoid']}\n",
        "\n",
        "# svc_search = RandomizedSearchCV(estimator=SVC(),\n",
        "#                           param_distributions=svc_grid,\n",
        "#                           cv=5,\n",
        "#                           scoring='f1',\n",
        "#                           verbose=True)\n",
        "\n",
        "# svc_search.fit(X_train, y_train)\n",
        "# svc_best_params = svc_search.best_params_"
      ],
      "execution_count": null,
      "outputs": []
    },
    {
      "cell_type": "code",
      "metadata": {
        "id": "cmBg5rq6pg6r",
        "colab": {
          "base_uri": "https://localhost:8080/",
          "height": 85
        },
        "outputId": "0a14d38c-2158-45c1-c031-d8ea0d63b04e"
      },
      "source": [
        "from sklearn.svm import SVC\n",
        "\n",
        "svc_model = SVC()\n",
        "svc_model.fit(X_train, y_train)"
      ],
      "execution_count": null,
      "outputs": [
        {
          "output_type": "execute_result",
          "data": {
            "text/plain": [
              "SVC(C=1.0, break_ties=False, cache_size=200, class_weight=None, coef0=0.0,\n",
              "    decision_function_shape='ovr', degree=3, gamma='scale', kernel='rbf',\n",
              "    max_iter=-1, probability=False, random_state=None, shrinking=True,\n",
              "    tol=0.001, verbose=False)"
            ]
          },
          "metadata": {
            "tags": []
          },
          "execution_count": 32
        }
      ]
    },
    {
      "cell_type": "code",
      "metadata": {
        "id": "3iF5Aj_aqCzP"
      },
      "source": [
        "y_pred_svc = svc_model.predict(X_test)"
      ],
      "execution_count": null,
      "outputs": []
    },
    {
      "cell_type": "code",
      "metadata": {
        "id": "dcte1lW8qp7q",
        "colab": {
          "base_uri": "https://localhost:8080/",
          "height": 34
        },
        "outputId": "5d5ba0b2-eded-4cf8-93fe-9c4eb9d31b06"
      },
      "source": [
        "f1_score_svc = f1_score(y_test, y_pred_svc)\n",
        "print(f1_score_svc)"
      ],
      "execution_count": null,
      "outputs": [
        {
          "output_type": "stream",
          "text": [
            "0.7660311958405545\n"
          ],
          "name": "stdout"
        }
      ]
    },
    {
      "cell_type": "code",
      "metadata": {
        "id": "MhTwxZsR8kT8"
      },
      "source": [
        "f1_scores[\"SVC\"] = f1_score_svc"
      ],
      "execution_count": null,
      "outputs": []
    },
    {
      "cell_type": "markdown",
      "metadata": {
        "id": "mF37NNkhq0Nf"
      },
      "source": [
        "# Decision Tree"
      ]
    },
    {
      "cell_type": "code",
      "metadata": {
        "id": "vor3nQKw6eEB"
      },
      "source": [
        "# from sklearn.tree import DecisionTreeClassifier\n",
        "\n",
        "# dtc_grid = {\"max_depth\": [3, None],\n",
        "#               \"max_features\": randint(1, 9),\n",
        "#               \"min_samples_leaf\": randint(1, 9),\n",
        "#               \"criterion\": [\"gini\", \"entropy\"]}\n",
        "\n",
        "# dtc_search = RandomizedSearchCV(estimator=DecisionTreeClassifier(),\n",
        "#                           param_distributions=dtc_grid,\n",
        "#                           cv=5,\n",
        "#                           scoring='f1',\n",
        "#                           verbose=True)\n",
        "\n",
        "# dtc_search.fit(X_train, y_train)\n",
        "# dtc_best_params = dtc_search.best_params_"
      ],
      "execution_count": null,
      "outputs": []
    },
    {
      "cell_type": "code",
      "metadata": {
        "id": "H8vPoUu5rMd3",
        "colab": {
          "base_uri": "https://localhost:8080/",
          "height": 119
        },
        "outputId": "0134fd75-662a-4c00-ecaa-4dbc4d0d14cf"
      },
      "source": [
        "from sklearn.tree import DecisionTreeClassifier\n",
        "\n",
        "dtc_model = DecisionTreeClassifier()\n",
        "dtc_model.fit(X_train, y_train)"
      ],
      "execution_count": null,
      "outputs": [
        {
          "output_type": "execute_result",
          "data": {
            "text/plain": [
              "DecisionTreeClassifier(ccp_alpha=0.0, class_weight=None, criterion='gini',\n",
              "                       max_depth=None, max_features=None, max_leaf_nodes=None,\n",
              "                       min_impurity_decrease=0.0, min_impurity_split=None,\n",
              "                       min_samples_leaf=1, min_samples_split=2,\n",
              "                       min_weight_fraction_leaf=0.0, presort='deprecated',\n",
              "                       random_state=None, splitter='best')"
            ]
          },
          "metadata": {
            "tags": []
          },
          "execution_count": 37
        }
      ]
    },
    {
      "cell_type": "code",
      "metadata": {
        "id": "j8CVG3_YrMlB"
      },
      "source": [
        "y_pred_dtc = dtc_model.predict(X_test)"
      ],
      "execution_count": null,
      "outputs": []
    },
    {
      "cell_type": "code",
      "metadata": {
        "id": "cX301R9erMn7",
        "colab": {
          "base_uri": "https://localhost:8080/",
          "height": 34
        },
        "outputId": "ebd924c1-43c8-471b-c794-65dbb7eb54f2"
      },
      "source": [
        "f1_score_dtc = f1_score(y_test, y_pred_dtc)\n",
        "print(f1_score_dtc)"
      ],
      "execution_count": null,
      "outputs": [
        {
          "output_type": "stream",
          "text": [
            "0.7054202670856244\n"
          ],
          "name": "stdout"
        }
      ]
    },
    {
      "cell_type": "code",
      "metadata": {
        "id": "s0wkve5Z8sMo"
      },
      "source": [
        "f1_scores[\"DecisionTreeClassifier\"] = f1_score_dtc"
      ],
      "execution_count": null,
      "outputs": []
    },
    {
      "cell_type": "markdown",
      "metadata": {
        "id": "8F7pouujq7gC"
      },
      "source": [
        "# Ensemble"
      ]
    },
    {
      "cell_type": "code",
      "metadata": {
        "id": "9uHeDWwX6990"
      },
      "source": [
        "# from sklearn.ensemble import RandomForestClassifier\n",
        "\n",
        "# rfc_grid = {\"n_estimators\": [10, 100, 200, 500, 1000, 1200],\n",
        "#             \"max_depth\": [5, 8, 15, 25, 30],\n",
        "#             \"max_features\": [\"auto\", \"sqrt\"],\n",
        "#             \"min_samples_split\": [2, 5, 10, 15, 100],\n",
        "#             \"min_samples_leaf\": [1, 2, 5, 10]}\n",
        "\n",
        "# rfc_search = RandomizedSearchCV(estimator=RandomForestClassifier(),\n",
        "#                           param_distributions=rfc_grid,\n",
        "#                           cv=5,\n",
        "#                           scoring='f1',\n",
        "#                           verbose=True)\n",
        "\n",
        "# rfc_search.fit(X_train, y_train)\n",
        "# rfc_best_params = rfc_search.best_params_"
      ],
      "execution_count": null,
      "outputs": []
    },
    {
      "cell_type": "code",
      "metadata": {
        "id": "Sp185W-trTkJ",
        "colab": {
          "base_uri": "https://localhost:8080/",
          "height": 153
        },
        "outputId": "0194d28b-5776-4724-8fee-4ce09db125e5"
      },
      "source": [
        "from sklearn.ensemble import RandomForestClassifier\n",
        "\n",
        "rfc_model = RandomForestClassifier()\n",
        "rfc_model.fit(X_train, y_train)"
      ],
      "execution_count": null,
      "outputs": [
        {
          "output_type": "execute_result",
          "data": {
            "text/plain": [
              "RandomForestClassifier(bootstrap=True, ccp_alpha=0.0, class_weight=None,\n",
              "                       criterion='gini', max_depth=None, max_features='auto',\n",
              "                       max_leaf_nodes=None, max_samples=None,\n",
              "                       min_impurity_decrease=0.0, min_impurity_split=None,\n",
              "                       min_samples_leaf=1, min_samples_split=2,\n",
              "                       min_weight_fraction_leaf=0.0, n_estimators=100,\n",
              "                       n_jobs=None, oob_score=False, random_state=None,\n",
              "                       verbose=0, warm_start=False)"
            ]
          },
          "metadata": {
            "tags": []
          },
          "execution_count": 42
        }
      ]
    },
    {
      "cell_type": "code",
      "metadata": {
        "id": "d968BMf9rTzu"
      },
      "source": [
        "y_pred_rfc = rfc_model.predict(X_test)"
      ],
      "execution_count": null,
      "outputs": []
    },
    {
      "cell_type": "code",
      "metadata": {
        "id": "sDuvKEBPrT2V",
        "colab": {
          "base_uri": "https://localhost:8080/",
          "height": 34
        },
        "outputId": "f40a0ed6-82f1-4e35-aa82-230e51d9a698"
      },
      "source": [
        "f1_score_rfc = f1_score(y_test, y_pred_rfc)\n",
        "print(f1_score_rfc)"
      ],
      "execution_count": null,
      "outputs": [
        {
          "output_type": "stream",
          "text": [
            "0.7410423452768731\n"
          ],
          "name": "stdout"
        }
      ]
    },
    {
      "cell_type": "code",
      "metadata": {
        "id": "T_ToRsIt8xhH"
      },
      "source": [
        "f1_scores[\"RandomForestClassifier\"] = f1_score_rfc"
      ],
      "execution_count": null,
      "outputs": []
    },
    {
      "cell_type": "markdown",
      "metadata": {
        "id": "8J0QQ10Qq9LI"
      },
      "source": [
        "# Naive Bayes"
      ]
    },
    {
      "cell_type": "code",
      "metadata": {
        "id": "8I-NpW1JrUsH",
        "colab": {
          "base_uri": "https://localhost:8080/",
          "height": 34
        },
        "outputId": "d9f20fe1-4782-404f-ad8e-bd4f63c3e5df"
      },
      "source": [
        "from sklearn.naive_bayes import GaussianNB\n",
        "\n",
        "gnb_model = GaussianNB()\n",
        "gnb_model.fit(X_train, y_train)"
      ],
      "execution_count": null,
      "outputs": [
        {
          "output_type": "execute_result",
          "data": {
            "text/plain": [
              "GaussianNB(priors=None, var_smoothing=1e-09)"
            ]
          },
          "metadata": {
            "tags": []
          },
          "execution_count": 46
        }
      ]
    },
    {
      "cell_type": "code",
      "metadata": {
        "id": "t9psy2hbrUzN"
      },
      "source": [
        "y_pred_gnb = gnb_model.predict(X_test)"
      ],
      "execution_count": null,
      "outputs": []
    },
    {
      "cell_type": "code",
      "metadata": {
        "id": "iQfsupJGrUxK",
        "colab": {
          "base_uri": "https://localhost:8080/",
          "height": 34
        },
        "outputId": "65928958-b569-49f4-a586-865354ffe1e0"
      },
      "source": [
        "f1_score_gnb = f1_score(y_test, y_pred_gnb)\n",
        "print(f1_score_gnb)"
      ],
      "execution_count": null,
      "outputs": [
        {
          "output_type": "stream",
          "text": [
            "0.7115044247787611\n"
          ],
          "name": "stdout"
        }
      ]
    },
    {
      "cell_type": "code",
      "metadata": {
        "id": "TO-RysII8yXu"
      },
      "source": [
        "f1_scores[\"GaussianNB\"] = f1_score_gnb"
      ],
      "execution_count": null,
      "outputs": []
    },
    {
      "cell_type": "code",
      "metadata": {
        "id": "RFvnCh-R81D4",
        "colab": {
          "base_uri": "https://localhost:8080/",
          "height": 54
        },
        "outputId": "242909db-7f0e-4835-8c12-dc27f9f77c31"
      },
      "source": [
        "print(f1_scores)"
      ],
      "execution_count": null,
      "outputs": [
        {
          "output_type": "stream",
          "text": [
            "{'LogisticRegression': 0.7360655737704918, 'KNeighborsClassifier': 0.5952626158599381, 'SVC': 0.7660311958405545, 'DecisionTreeClassifier': 0.7054202670856244, 'RandomForestClassifier': 0.7410423452768731, 'GaussianNB': 0.7115044247787611}\n"
          ],
          "name": "stdout"
        }
      ]
    },
    {
      "cell_type": "code",
      "metadata": {
        "id": "F0bOO8l4AftA",
        "colab": {
          "base_uri": "https://localhost:8080/",
          "height": 34
        },
        "outputId": "000bfd79-268d-4480-e065-52fd207310e3"
      },
      "source": [
        "len(X[0])"
      ],
      "execution_count": null,
      "outputs": [
        {
          "output_type": "execute_result",
          "data": {
            "text/plain": [
              "1721"
            ]
          },
          "metadata": {
            "tags": []
          },
          "execution_count": 51
        }
      ]
    },
    {
      "cell_type": "markdown",
      "metadata": {
        "id": "tz4Dttzkq_dy"
      },
      "source": [
        "# ANN"
      ]
    },
    {
      "cell_type": "code",
      "metadata": {
        "id": "RBzXr6c2JGFR"
      },
      "source": [
        "from keras import backend as K\n",
        "\n",
        "def recall_m(y_true, y_pred):\n",
        "  true_positives = K.sum(K.round(K.clip(y_true * y_pred, 0, 1)))\n",
        "  possible_positives = K.sum(K.round(K.clip(y_true, 0, 1)))\n",
        "  recall = true_positives / (possible_positives + K.epsilon())\n",
        "  return recall\n",
        "\n",
        "def precision_m(y_true, y_pred):\n",
        "  true_positives = K.sum(K.round(K.clip(y_true * y_pred, 0, 1)))\n",
        "  predicted_positives = K.sum(K.round(K.clip(y_pred, 0, 1)))\n",
        "  precision = true_positives / (predicted_positives + K.epsilon())\n",
        "  return precision\n",
        "\n",
        "def f1_m(y_true, y_pred):\n",
        "  precision = precision_m(y_true, y_pred)\n",
        "  recall = recall_m(y_true, y_pred)\n",
        "  return 2*((precision*recall)/(precision+recall+K.epsilon()))"
      ],
      "execution_count": null,
      "outputs": []
    },
    {
      "cell_type": "code",
      "metadata": {
        "id": "4eCPpcXrEfR8"
      },
      "source": [
        "import tensorflow as tf\n",
        "\n",
        "ann = tf.keras.models.Sequential()\n",
        "ann.add(tf.keras.layers.Dense(units=1721, activation=\"relu\")) # Rectifier linear unit\n",
        "ann.add(tf.keras.layers.Dense(units=1721, activation=\"relu\"))\n",
        "ann.add(tf.keras.layers.Dense(units=1, activation=\"sigmoid\"))\n",
        "\n",
        "ann.compile(optimizer='adam', loss='binary_crossentropy', metrics=[f1_m])"
      ],
      "execution_count": null,
      "outputs": []
    },
    {
      "cell_type": "code",
      "metadata": {
        "id": "O_AXY_3LFbLa",
        "colab": {
          "base_uri": "https://localhost:8080/",
          "height": 884
        },
        "outputId": "36f56fc7-45d2-4243-b3b9-cf74acfada1e"
      },
      "source": [
        "ann.fit(X_train, y_train, batch_size=32, epochs=25)"
      ],
      "execution_count": null,
      "outputs": [
        {
          "output_type": "stream",
          "text": [
            "Epoch 1/25\n",
            "189/189 [==============================] - 1s 4ms/step - loss: 0.5005 - f1_m: 0.6849\n",
            "Epoch 2/25\n",
            "189/189 [==============================] - 1s 4ms/step - loss: 0.3053 - f1_m: 0.8319\n",
            "Epoch 3/25\n",
            "189/189 [==============================] - 1s 3ms/step - loss: 0.1691 - f1_m: 0.9142\n",
            "Epoch 4/25\n",
            "189/189 [==============================] - 1s 3ms/step - loss: 0.0938 - f1_m: 0.9536\n",
            "Epoch 5/25\n",
            "189/189 [==============================] - 1s 3ms/step - loss: 0.0618 - f1_m: 0.9698\n",
            "Epoch 6/25\n",
            "189/189 [==============================] - 1s 3ms/step - loss: 0.0526 - f1_m: 0.9738\n",
            "Epoch 7/25\n",
            "189/189 [==============================] - 1s 3ms/step - loss: 0.0428 - f1_m: 0.9754\n",
            "Epoch 8/25\n",
            "189/189 [==============================] - 1s 3ms/step - loss: 0.0398 - f1_m: 0.9766\n",
            "Epoch 9/25\n",
            "189/189 [==============================] - 1s 3ms/step - loss: 0.0384 - f1_m: 0.9774\n",
            "Epoch 10/25\n",
            "189/189 [==============================] - 1s 3ms/step - loss: 0.0406 - f1_m: 0.9793\n",
            "Epoch 11/25\n",
            "189/189 [==============================] - 1s 3ms/step - loss: 0.0403 - f1_m: 0.9765\n",
            "Epoch 12/25\n",
            "189/189 [==============================] - 1s 3ms/step - loss: 0.0363 - f1_m: 0.9787\n",
            "Epoch 13/25\n",
            "189/189 [==============================] - 1s 3ms/step - loss: 0.0358 - f1_m: 0.9808\n",
            "Epoch 14/25\n",
            "189/189 [==============================] - 1s 3ms/step - loss: 0.0352 - f1_m: 0.9801\n",
            "Epoch 15/25\n",
            "189/189 [==============================] - 1s 4ms/step - loss: 0.0319 - f1_m: 0.9806\n",
            "Epoch 16/25\n",
            "189/189 [==============================] - 1s 4ms/step - loss: 0.0301 - f1_m: 0.9837\n",
            "Epoch 17/25\n",
            "189/189 [==============================] - 1s 4ms/step - loss: 0.0287 - f1_m: 0.9820\n",
            "Epoch 18/25\n",
            "189/189 [==============================] - 1s 4ms/step - loss: 0.0276 - f1_m: 0.9847\n",
            "Epoch 19/25\n",
            "189/189 [==============================] - 1s 4ms/step - loss: 0.0280 - f1_m: 0.9842\n",
            "Epoch 20/25\n",
            "189/189 [==============================] - 1s 4ms/step - loss: 0.0340 - f1_m: 0.9825\n",
            "Epoch 21/25\n",
            "189/189 [==============================] - 1s 4ms/step - loss: 0.0276 - f1_m: 0.9831\n",
            "Epoch 22/25\n",
            "189/189 [==============================] - 1s 4ms/step - loss: 0.0247 - f1_m: 0.9835\n",
            "Epoch 23/25\n",
            "189/189 [==============================] - 1s 4ms/step - loss: 0.0264 - f1_m: 0.9853\n",
            "Epoch 24/25\n",
            "189/189 [==============================] - 1s 4ms/step - loss: 0.0309 - f1_m: 0.9850\n",
            "Epoch 25/25\n",
            "189/189 [==============================] - 1s 3ms/step - loss: 0.0350 - f1_m: 0.9823\n"
          ],
          "name": "stdout"
        },
        {
          "output_type": "execute_result",
          "data": {
            "text/plain": [
              "<tensorflow.python.keras.callbacks.History at 0x7f323c2a7780>"
            ]
          },
          "metadata": {
            "tags": []
          },
          "execution_count": 104
        }
      ]
    },
    {
      "cell_type": "code",
      "metadata": {
        "id": "tJeInwyjGBBy",
        "colab": {
          "base_uri": "https://localhost:8080/",
          "height": 51
        },
        "outputId": "a6eedd31-fb8c-4fa4-e661-9e4bd6a0985a"
      },
      "source": [
        "y_pred = ann.predict(X_test)\n",
        "ann.evaluate(X_test, y_test, verbose=1)"
      ],
      "execution_count": null,
      "outputs": [
        {
          "output_type": "stream",
          "text": [
            "48/48 [==============================] - 0s 5ms/step - loss: 1.8597 - f1_m: 0.7291\n"
          ],
          "name": "stdout"
        },
        {
          "output_type": "execute_result",
          "data": {
            "text/plain": [
              "[1.859741449356079, 0.7291105389595032]"
            ]
          },
          "metadata": {
            "tags": []
          },
          "execution_count": 105
        }
      ]
    },
    {
      "cell_type": "markdown",
      "metadata": {
        "id": "m5cLTRZhSosc"
      },
      "source": [
        "# The best result using this data was shown by SVC model, which is F1 = 0.766"
      ]
    },
    {
      "cell_type": "code",
      "metadata": {
        "id": "sBe3eyI3cIeF"
      },
      "source": [
        ""
      ],
      "execution_count": null,
      "outputs": []
    }
  ]
}